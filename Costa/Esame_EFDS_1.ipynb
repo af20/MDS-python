{
 "cells": [
  {
   "cell_type": "markdown",
   "id": "65a31b72",
   "metadata": {},
   "source": [
    "## Import libraries"
   ]
  },
  {
   "cell_type": "code",
   "execution_count": 3,
   "id": "66348867",
   "metadata": {},
   "outputs": [
    {
     "name": "stderr",
     "output_type": "stream",
     "text": [
      "C:\\Users\\costa\\anaconda3\\lib\\site-packages\\statsmodels\\compat\\pandas.py:61: FutureWarning: pandas.Int64Index is deprecated and will be removed from pandas in a future version. Use pandas.Index with the appropriate dtype instead.\n",
      "  from pandas import Int64Index as NumericIndex\n"
     ]
    }
   ],
   "source": [
    "from statsmodels.graphics.tsaplots import plot_pacf\n",
    "from statsmodels.graphics.tsaplots import plot_acf\n",
    "from statsmodels.tsa.arima_process import ArmaProcess\n",
    "from statsmodels.stats.diagnostic import acorr_ljungbox\n",
    "from statsmodels.tsa.statespace.sarimax import SARIMAX\n",
    "from statsmodels.tsa.stattools import adfuller\n",
    "from statsmodels.tsa.stattools import pacf\n",
    "from statsmodels.tsa.stattools import acf\n",
    "from statsmodels.tsa.arima.model import ARIMA\n",
    "import statistics\n",
    "from tqdm import tqdm_notebook\n",
    "import matplotlib.pyplot as plt\n",
    "import numpy as np\n",
    "import pandas as pd\n",
    "import warnings\n",
    "warnings.filterwarnings('ignore')\n",
    "%matplotlib inline\n",
    "import nbimporter"
   ]
  },
  {
   "cell_type": "markdown",
   "id": "dc40e960",
   "metadata": {},
   "source": [
    "## Import Dataset"
   ]
  },
  {
   "cell_type": "code",
   "execution_count": 53,
   "id": "8954320a",
   "metadata": {
    "scrolled": true
   },
   "outputs": [
    {
     "data": {
      "text/html": [
       "<div>\n",
       "<style scoped>\n",
       "    .dataframe tbody tr th:only-of-type {\n",
       "        vertical-align: middle;\n",
       "    }\n",
       "\n",
       "    .dataframe tbody tr th {\n",
       "        vertical-align: top;\n",
       "    }\n",
       "\n",
       "    .dataframe thead th {\n",
       "        text-align: right;\n",
       "    }\n",
       "</style>\n",
       "<table border=\"1\" class=\"dataframe\">\n",
       "  <thead>\n",
       "    <tr style=\"text-align: right;\">\n",
       "      <th></th>\n",
       "      <th>sasdate</th>\n",
       "      <th>RPI</th>\n",
       "      <th>W875RX1</th>\n",
       "      <th>DPCERA3M086SBEA</th>\n",
       "      <th>CMRMTSPLx</th>\n",
       "      <th>RETAILx</th>\n",
       "      <th>INDPRO</th>\n",
       "      <th>IPFPNSS</th>\n",
       "      <th>IPFINAL</th>\n",
       "      <th>IPCONGD</th>\n",
       "      <th>...</th>\n",
       "      <th>DNDGRG3M086SBEA</th>\n",
       "      <th>DSERRG3M086SBEA</th>\n",
       "      <th>CES0600000008</th>\n",
       "      <th>CES2000000008</th>\n",
       "      <th>CES3000000008</th>\n",
       "      <th>UMCSENTx</th>\n",
       "      <th>DTCOLNVHFNM</th>\n",
       "      <th>DTCTHFNM</th>\n",
       "      <th>INVEST</th>\n",
       "      <th>VIXCLSx</th>\n",
       "    </tr>\n",
       "  </thead>\n",
       "  <tbody>\n",
       "    <tr>\n",
       "      <th>0</th>\n",
       "      <td>Transform:</td>\n",
       "      <td>5.000</td>\n",
       "      <td>5.0</td>\n",
       "      <td>5.000</td>\n",
       "      <td>5.000000e+00</td>\n",
       "      <td>5.00000</td>\n",
       "      <td>5.0000</td>\n",
       "      <td>5.0000</td>\n",
       "      <td>5.0000</td>\n",
       "      <td>5.0000</td>\n",
       "      <td>...</td>\n",
       "      <td>6.000</td>\n",
       "      <td>6.000</td>\n",
       "      <td>6.00</td>\n",
       "      <td>6.00</td>\n",
       "      <td>6.00</td>\n",
       "      <td>2.0</td>\n",
       "      <td>6.00</td>\n",
       "      <td>6.00</td>\n",
       "      <td>6.0000</td>\n",
       "      <td>1.0000</td>\n",
       "    </tr>\n",
       "    <tr>\n",
       "      <th>1</th>\n",
       "      <td>1/1/1959</td>\n",
       "      <td>2442.158</td>\n",
       "      <td>2293.2</td>\n",
       "      <td>17.272</td>\n",
       "      <td>2.922664e+05</td>\n",
       "      <td>18235.77392</td>\n",
       "      <td>22.0733</td>\n",
       "      <td>23.4027</td>\n",
       "      <td>22.2858</td>\n",
       "      <td>31.5688</td>\n",
       "      <td>...</td>\n",
       "      <td>17.791</td>\n",
       "      <td>11.326</td>\n",
       "      <td>2.13</td>\n",
       "      <td>2.45</td>\n",
       "      <td>2.04</td>\n",
       "      <td>NaN</td>\n",
       "      <td>6476.00</td>\n",
       "      <td>12298.00</td>\n",
       "      <td>84.2043</td>\n",
       "      <td>NaN</td>\n",
       "    </tr>\n",
       "    <tr>\n",
       "      <th>2</th>\n",
       "      <td>2/1/1959</td>\n",
       "      <td>2451.778</td>\n",
       "      <td>2301.5</td>\n",
       "      <td>17.452</td>\n",
       "      <td>2.944247e+05</td>\n",
       "      <td>18369.56308</td>\n",
       "      <td>22.5056</td>\n",
       "      <td>23.7185</td>\n",
       "      <td>22.4788</td>\n",
       "      <td>31.8004</td>\n",
       "      <td>...</td>\n",
       "      <td>17.798</td>\n",
       "      <td>11.343</td>\n",
       "      <td>2.14</td>\n",
       "      <td>2.46</td>\n",
       "      <td>2.05</td>\n",
       "      <td>NaN</td>\n",
       "      <td>6476.00</td>\n",
       "      <td>12298.00</td>\n",
       "      <td>83.5280</td>\n",
       "      <td>NaN</td>\n",
       "    </tr>\n",
       "    <tr>\n",
       "      <th>3</th>\n",
       "      <td>3/1/1959</td>\n",
       "      <td>2467.594</td>\n",
       "      <td>2318.5</td>\n",
       "      <td>17.617</td>\n",
       "      <td>2.934187e+05</td>\n",
       "      <td>18523.05762</td>\n",
       "      <td>22.8298</td>\n",
       "      <td>23.8621</td>\n",
       "      <td>22.5892</td>\n",
       "      <td>31.8004</td>\n",
       "      <td>...</td>\n",
       "      <td>17.785</td>\n",
       "      <td>11.363</td>\n",
       "      <td>2.15</td>\n",
       "      <td>2.45</td>\n",
       "      <td>2.07</td>\n",
       "      <td>NaN</td>\n",
       "      <td>6508.00</td>\n",
       "      <td>12349.00</td>\n",
       "      <td>81.6405</td>\n",
       "      <td>NaN</td>\n",
       "    </tr>\n",
       "    <tr>\n",
       "      <th>4</th>\n",
       "      <td>4/1/1959</td>\n",
       "      <td>2483.671</td>\n",
       "      <td>2334.9</td>\n",
       "      <td>17.553</td>\n",
       "      <td>2.993228e+05</td>\n",
       "      <td>18534.46600</td>\n",
       "      <td>23.3161</td>\n",
       "      <td>24.2067</td>\n",
       "      <td>22.9201</td>\n",
       "      <td>32.3021</td>\n",
       "      <td>...</td>\n",
       "      <td>17.796</td>\n",
       "      <td>11.403</td>\n",
       "      <td>2.16</td>\n",
       "      <td>2.47</td>\n",
       "      <td>2.08</td>\n",
       "      <td>NaN</td>\n",
       "      <td>6620.00</td>\n",
       "      <td>12484.00</td>\n",
       "      <td>81.8099</td>\n",
       "      <td>NaN</td>\n",
       "    </tr>\n",
       "    <tr>\n",
       "      <th>...</th>\n",
       "      <td>...</td>\n",
       "      <td>...</td>\n",
       "      <td>...</td>\n",
       "      <td>...</td>\n",
       "      <td>...</td>\n",
       "      <td>...</td>\n",
       "      <td>...</td>\n",
       "      <td>...</td>\n",
       "      <td>...</td>\n",
       "      <td>...</td>\n",
       "      <td>...</td>\n",
       "      <td>...</td>\n",
       "      <td>...</td>\n",
       "      <td>...</td>\n",
       "      <td>...</td>\n",
       "      <td>...</td>\n",
       "      <td>...</td>\n",
       "      <td>...</td>\n",
       "      <td>...</td>\n",
       "      <td>...</td>\n",
       "      <td>...</td>\n",
       "    </tr>\n",
       "    <tr>\n",
       "      <th>755</th>\n",
       "      <td>11/1/2021</td>\n",
       "      <td>17744.971</td>\n",
       "      <td>14406.3</td>\n",
       "      <td>125.640</td>\n",
       "      <td>1.572476e+06</td>\n",
       "      <td>642636.00000</td>\n",
       "      <td>102.0298</td>\n",
       "      <td>101.2278</td>\n",
       "      <td>101.6805</td>\n",
       "      <td>100.7470</td>\n",
       "      <td>...</td>\n",
       "      <td>105.852</td>\n",
       "      <td>126.278</td>\n",
       "      <td>26.99</td>\n",
       "      <td>31.04</td>\n",
       "      <td>24.24</td>\n",
       "      <td>67.4</td>\n",
       "      <td>369983.50</td>\n",
       "      <td>754662.69</td>\n",
       "      <td>5607.1160</td>\n",
       "      <td>19.1586</td>\n",
       "    </tr>\n",
       "    <tr>\n",
       "      <th>756</th>\n",
       "      <td>12/1/2021</td>\n",
       "      <td>17724.218</td>\n",
       "      <td>14398.0</td>\n",
       "      <td>123.868</td>\n",
       "      <td>1.562935e+06</td>\n",
       "      <td>625459.00000</td>\n",
       "      <td>101.6188</td>\n",
       "      <td>100.7811</td>\n",
       "      <td>101.2251</td>\n",
       "      <td>100.0557</td>\n",
       "      <td>...</td>\n",
       "      <td>106.351</td>\n",
       "      <td>126.834</td>\n",
       "      <td>27.17</td>\n",
       "      <td>31.25</td>\n",
       "      <td>24.38</td>\n",
       "      <td>70.6</td>\n",
       "      <td>370554.92</td>\n",
       "      <td>753781.25</td>\n",
       "      <td>5678.9555</td>\n",
       "      <td>21.2985</td>\n",
       "    </tr>\n",
       "    <tr>\n",
       "      <th>757</th>\n",
       "      <td>1/1/2022</td>\n",
       "      <td>17637.890</td>\n",
       "      <td>14363.1</td>\n",
       "      <td>126.504</td>\n",
       "      <td>1.594543e+06</td>\n",
       "      <td>656117.00000</td>\n",
       "      <td>103.0309</td>\n",
       "      <td>102.2329</td>\n",
       "      <td>102.9328</td>\n",
       "      <td>102.4891</td>\n",
       "      <td>...</td>\n",
       "      <td>107.148</td>\n",
       "      <td>127.303</td>\n",
       "      <td>27.29</td>\n",
       "      <td>31.45</td>\n",
       "      <td>24.48</td>\n",
       "      <td>67.2</td>\n",
       "      <td>371315.40</td>\n",
       "      <td>753714.52</td>\n",
       "      <td>5777.2852</td>\n",
       "      <td>22.9143</td>\n",
       "    </tr>\n",
       "    <tr>\n",
       "      <th>758</th>\n",
       "      <td>2/1/2022</td>\n",
       "      <td>17620.889</td>\n",
       "      <td>14373.4</td>\n",
       "      <td>126.039</td>\n",
       "      <td>NaN</td>\n",
       "      <td>658128.00000</td>\n",
       "      <td>103.5811</td>\n",
       "      <td>102.8109</td>\n",
       "      <td>103.3802</td>\n",
       "      <td>102.1002</td>\n",
       "      <td>...</td>\n",
       "      <td>109.077</td>\n",
       "      <td>127.654</td>\n",
       "      <td>27.41</td>\n",
       "      <td>31.62</td>\n",
       "      <td>24.54</td>\n",
       "      <td>62.8</td>\n",
       "      <td>NaN</td>\n",
       "      <td>NaN</td>\n",
       "      <td>5810.7499</td>\n",
       "      <td>26.1429</td>\n",
       "    </tr>\n",
       "    <tr>\n",
       "      <th>759</th>\n",
       "      <td>NaN</td>\n",
       "      <td>NaN</td>\n",
       "      <td>NaN</td>\n",
       "      <td>NaN</td>\n",
       "      <td>NaN</td>\n",
       "      <td>NaN</td>\n",
       "      <td>NaN</td>\n",
       "      <td>NaN</td>\n",
       "      <td>NaN</td>\n",
       "      <td>NaN</td>\n",
       "      <td>...</td>\n",
       "      <td>NaN</td>\n",
       "      <td>NaN</td>\n",
       "      <td>NaN</td>\n",
       "      <td>NaN</td>\n",
       "      <td>NaN</td>\n",
       "      <td>NaN</td>\n",
       "      <td>NaN</td>\n",
       "      <td>NaN</td>\n",
       "      <td>NaN</td>\n",
       "      <td>NaN</td>\n",
       "    </tr>\n",
       "  </tbody>\n",
       "</table>\n",
       "<p>760 rows × 128 columns</p>\n",
       "</div>"
      ],
      "text/plain": [
       "        sasdate        RPI  W875RX1  DPCERA3M086SBEA     CMRMTSPLx  \\\n",
       "0    Transform:      5.000      5.0            5.000  5.000000e+00   \n",
       "1      1/1/1959   2442.158   2293.2           17.272  2.922664e+05   \n",
       "2      2/1/1959   2451.778   2301.5           17.452  2.944247e+05   \n",
       "3      3/1/1959   2467.594   2318.5           17.617  2.934187e+05   \n",
       "4      4/1/1959   2483.671   2334.9           17.553  2.993228e+05   \n",
       "..          ...        ...      ...              ...           ...   \n",
       "755   11/1/2021  17744.971  14406.3          125.640  1.572476e+06   \n",
       "756   12/1/2021  17724.218  14398.0          123.868  1.562935e+06   \n",
       "757    1/1/2022  17637.890  14363.1          126.504  1.594543e+06   \n",
       "758    2/1/2022  17620.889  14373.4          126.039           NaN   \n",
       "759         NaN        NaN      NaN              NaN           NaN   \n",
       "\n",
       "          RETAILx    INDPRO   IPFPNSS   IPFINAL   IPCONGD  ...  \\\n",
       "0         5.00000    5.0000    5.0000    5.0000    5.0000  ...   \n",
       "1     18235.77392   22.0733   23.4027   22.2858   31.5688  ...   \n",
       "2     18369.56308   22.5056   23.7185   22.4788   31.8004  ...   \n",
       "3     18523.05762   22.8298   23.8621   22.5892   31.8004  ...   \n",
       "4     18534.46600   23.3161   24.2067   22.9201   32.3021  ...   \n",
       "..            ...       ...       ...       ...       ...  ...   \n",
       "755  642636.00000  102.0298  101.2278  101.6805  100.7470  ...   \n",
       "756  625459.00000  101.6188  100.7811  101.2251  100.0557  ...   \n",
       "757  656117.00000  103.0309  102.2329  102.9328  102.4891  ...   \n",
       "758  658128.00000  103.5811  102.8109  103.3802  102.1002  ...   \n",
       "759           NaN       NaN       NaN       NaN       NaN  ...   \n",
       "\n",
       "     DNDGRG3M086SBEA  DSERRG3M086SBEA  CES0600000008  CES2000000008  \\\n",
       "0              6.000            6.000           6.00           6.00   \n",
       "1             17.791           11.326           2.13           2.45   \n",
       "2             17.798           11.343           2.14           2.46   \n",
       "3             17.785           11.363           2.15           2.45   \n",
       "4             17.796           11.403           2.16           2.47   \n",
       "..               ...              ...            ...            ...   \n",
       "755          105.852          126.278          26.99          31.04   \n",
       "756          106.351          126.834          27.17          31.25   \n",
       "757          107.148          127.303          27.29          31.45   \n",
       "758          109.077          127.654          27.41          31.62   \n",
       "759              NaN              NaN            NaN            NaN   \n",
       "\n",
       "     CES3000000008  UMCSENTx  DTCOLNVHFNM   DTCTHFNM     INVEST  VIXCLSx  \n",
       "0             6.00       2.0         6.00       6.00     6.0000   1.0000  \n",
       "1             2.04       NaN      6476.00   12298.00    84.2043      NaN  \n",
       "2             2.05       NaN      6476.00   12298.00    83.5280      NaN  \n",
       "3             2.07       NaN      6508.00   12349.00    81.6405      NaN  \n",
       "4             2.08       NaN      6620.00   12484.00    81.8099      NaN  \n",
       "..             ...       ...          ...        ...        ...      ...  \n",
       "755          24.24      67.4    369983.50  754662.69  5607.1160  19.1586  \n",
       "756          24.38      70.6    370554.92  753781.25  5678.9555  21.2985  \n",
       "757          24.48      67.2    371315.40  753714.52  5777.2852  22.9143  \n",
       "758          24.54      62.8          NaN        NaN  5810.7499  26.1429  \n",
       "759            NaN       NaN          NaN        NaN        NaN      NaN  \n",
       "\n",
       "[760 rows x 128 columns]"
      ]
     },
     "execution_count": 53,
     "metadata": {},
     "output_type": "execute_result"
    }
   ],
   "source": [
    "df = pd.read_csv('2022-03.csv')\n",
    "df"
   ]
  },
  {
   "cell_type": "markdown",
   "id": "2524cecb",
   "metadata": {},
   "source": [
    "- Individuare la serie storica di interesse\n",
    "- Eliminare valori nulli\n",
    "- Eliminare la prima riga (Transform???)\n",
    "- Resetta l'indice a zero"
   ]
  },
  {
   "cell_type": "code",
   "execution_count": 5,
   "id": "fb42757f",
   "metadata": {},
   "outputs": [
    {
     "data": {
      "text/plain": [
       "sasdate              6/1/1996\n",
       "RPI                  9157.654\n",
       "W875RX1                7874.4\n",
       "DPCERA3M086SBEA        64.777\n",
       "CMRMTSPLx          916487.771\n",
       "                      ...    \n",
       "UMCSENTx                 92.4\n",
       "DTCOLNVHFNM          86333.37\n",
       "DTCTHFNM            303932.73\n",
       "INVEST               899.5332\n",
       "VIXCLSx               17.6216\n",
       "Name: 450, Length: 128, dtype: object"
      ]
     },
     "execution_count": 5,
     "metadata": {},
     "output_type": "execute_result"
    }
   ],
   "source": [
    "df.iloc[450]"
   ]
  },
  {
   "cell_type": "markdown",
   "id": "64db49c1",
   "metadata": {},
   "source": [
    "## Transformations"
   ]
  },
  {
   "cell_type": "code",
   "execution_count": 6,
   "id": "9e2370a3",
   "metadata": {},
   "outputs": [],
   "source": [
    "from datetime import datetime, timedelta"
   ]
  },
  {
   "cell_type": "code",
   "execution_count": 7,
   "id": "1a4c3411",
   "metadata": {},
   "outputs": [],
   "source": [
    "df_NDG = df[['sasdate','DNDGRG3M086SBEA']]\n",
    "df_NDG.dropna(inplace=True)\n",
    "df_NDG.drop(index=0,inplace=True)\n",
    "df_NDG.reset_index(inplace=True, drop=True)\n",
    "df_NDG['sasdate']= pd.to_datetime(df_NDG.sasdate)"
   ]
  },
  {
   "cell_type": "code",
   "execution_count": 8,
   "id": "894e92e6",
   "metadata": {},
   "outputs": [],
   "source": [
    "df_NDG['DNDGRG3M086SBEA'] = np.log(df_NDG['DNDGRG3M086SBEA'])"
   ]
  },
  {
   "cell_type": "code",
   "execution_count": 9,
   "id": "9eeaf268",
   "metadata": {},
   "outputs": [
    {
     "data": {
      "text/plain": [
       "<AxesSubplot:xlabel='sasdate'>"
      ]
     },
     "execution_count": 9,
     "metadata": {},
     "output_type": "execute_result"
    },
    {
     "data": {
      "image/png": "[encoded data removed]",
      "text/plain": [
       "<Figure size 432x288 with 1 Axes>"
      ]
     },
     "metadata": {
      "needs_background": "light"
     },
     "output_type": "display_data"
    }
   ],
   "source": [
    "df_NDG.plot(x='sasdate', y= 'DNDGRG3M086SBEA')"
   ]
  },
  {
   "cell_type": "markdown",
   "id": "5c859777",
   "metadata": {},
   "source": [
    "Mostrare Serie storica completa"
   ]
  },
  {
   "cell_type": "markdown",
   "id": "0d59d2b3",
   "metadata": {},
   "source": [
    "Usare scala logaritmica"
   ]
  },
  {
   "cell_type": "markdown",
   "id": "f188b0f2",
   "metadata": {},
   "source": [
    "##### Dividere in 'training set' e 'test set'"
   ]
  },
  {
   "cell_type": "markdown",
   "id": "c71beca5",
   "metadata": {},
   "source": [
    "Definire percentuale di test set"
   ]
  },
  {
   "cell_type": "code",
   "execution_count": 11,
   "id": "c2d55fab",
   "metadata": {},
   "outputs": [],
   "source": [
    "df_NDG = df_NDG['DNDGRG3M086SBEA'][300:450]"
   ]
  },
  {
   "cell_type": "code",
   "execution_count": 12,
   "id": "e199967d",
   "metadata": {},
   "outputs": [],
   "source": [
    "df_NDG_train = df_NDG[:120]"
   ]
  },
  {
   "cell_type": "code",
   "execution_count": 13,
   "id": "189c10dd",
   "metadata": {},
   "outputs": [],
   "source": [
    "df_NDG_test = df_NDG[120:150]"
   ]
  },
  {
   "cell_type": "markdown",
   "id": "bc38d799",
   "metadata": {},
   "source": [
    "## ACF e PACF"
   ]
  },
  {
   "cell_type": "code",
   "execution_count": 14,
   "id": "04a19a1c",
   "metadata": {
    "scrolled": false
   },
   "outputs": [
    {
     "data": {
      "image/png": "[encoded data removed]",
      "text/plain": [
       "<Figure size 432x288 with 1 Axes>"
      ]
     },
     "execution_count": 14,
     "metadata": {},
     "output_type": "execute_result"
    },
    {
     "data": {
      "image/png": "[encoded data removed]",
      "text/plain": [
       "<Figure size 432x288 with 1 Axes>"
      ]
     },
     "metadata": {
      "needs_background": "light"
     },
     "output_type": "display_data"
    }
   ],
   "source": [
    "plot_acf(df_NDG_train, zero=False, bartlett_confint=False)"
   ]
  },
  {
   "cell_type": "code",
   "execution_count": 15,
   "id": "453b3c11",
   "metadata": {
    "scrolled": false
   },
   "outputs": [
    {
     "data": {
      "image/png": "[encoded data removed]",
      "text/plain": [
       "<Figure size 432x288 with 1 Axes>"
      ]
     },
     "execution_count": 15,
     "metadata": {},
     "output_type": "execute_result"
    },
    {
     "data": {
      "image/png": "[encoded data removed]",
      "text/plain": [
       "<Figure size 432x288 with 1 Axes>"
      ]
     },
     "metadata": {
      "needs_background": "light"
     },
     "output_type": "display_data"
    }
   ],
   "source": [
    "plot_pacf(df_NDG_train, zero = False)"
   ]
  },
  {
   "cell_type": "markdown",
   "id": "6488528c",
   "metadata": {},
   "source": [
    "## ADF"
   ]
  },
  {
   "cell_type": "code",
   "execution_count": 16,
   "id": "518ee1e5",
   "metadata": {
    "scrolled": true
   },
   "outputs": [
    {
     "data": {
      "text/plain": [
       "(-0.3083538850755352,\n",
       " 0.9243128105355384,\n",
       " 2,\n",
       " 117,\n",
       " {'1%': -3.487517288664615,\n",
       "  '5%': -2.8865777180380032,\n",
       "  '10%': -2.5801239192052012},\n",
       " -853.2622838455553)"
      ]
     },
     "execution_count": 16,
     "metadata": {},
     "output_type": "execute_result"
    }
   ],
   "source": [
    "adfuller(df_NDG_train)"
   ]
  },
  {
   "cell_type": "markdown",
   "id": "8e7d6383",
   "metadata": {},
   "source": [
    "## Stima p e q\n"
   ]
  },
  {
   "cell_type": "markdown",
   "id": "d2a7cad2",
   "metadata": {},
   "source": [
    "#### Serie in differenza prima"
   ]
  },
  {
   "cell_type": "code",
   "execution_count": 17,
   "id": "55e03e24",
   "metadata": {},
   "outputs": [],
   "source": [
    "pmax = 2\n",
    "qmax = 2\n",
    "aic = np.empty((pmax+1,qmax+1))\n",
    "aic[:] = np.NaN\n",
    "bic = aic\n",
    "for p in range(0,pmax+1):\n",
    "    for q in range(0,qmax+1):\n",
    "        a = ARIMA(df_NDG_train, order=(p,1,q))\n",
    "        mdl = a.fit()\n",
    "        aic[p,q] = mdl.aic\n",
    "        bic[p,q] = mdl.bic"
   ]
  },
  {
   "cell_type": "code",
   "execution_count": 18,
   "id": "46429810",
   "metadata": {},
   "outputs": [
    {
     "data": {
      "text/plain": [
       "[1, 0]"
      ]
     },
     "execution_count": 18,
     "metadata": {},
     "output_type": "execute_result"
    }
   ],
   "source": [
    "aic_min = list(np.unravel_index(aic.argmin(), aic.shape))\n",
    "aic_min"
   ]
  },
  {
   "cell_type": "code",
   "execution_count": 19,
   "id": "ff1b55f4",
   "metadata": {},
   "outputs": [
    {
     "data": {
      "text/plain": [
       "[1, 0]"
      ]
     },
     "execution_count": 19,
     "metadata": {},
     "output_type": "execute_result"
    }
   ],
   "source": [
    "bic_min = list(np.unravel_index(bic.argmin(), bic.shape))\n",
    "bic_min"
   ]
  },
  {
   "cell_type": "markdown",
   "id": "d88121ae",
   "metadata": {},
   "source": [
    "Il risultato è quello che ci aspettavamo, perchè per un numero ridotto di lag i risultati tendono a coincidere. Questo perchè il modello di Schwarz penalizza di più il numero di iperparametri selezionati (ordini p e q). "
   ]
  },
  {
   "cell_type": "markdown",
   "id": "cdd04833",
   "metadata": {},
   "source": [
    "## Residui"
   ]
  },
  {
   "cell_type": "markdown",
   "id": "87f70d68",
   "metadata": {},
   "source": [
    "#### Serie in differenza prima"
   ]
  },
  {
   "cell_type": "code",
   "execution_count": 57,
   "id": "04dcbd41",
   "metadata": {},
   "outputs": [
    {
     "data": {
      "image/png": "[encoded data removed]",
      "text/plain": [
       "<Figure size 432x288 with 1 Axes>"
      ]
     },
     "metadata": {
      "needs_background": "light"
     },
     "output_type": "display_data"
    },
    {
     "data": {
      "image/png": "[encoded data removed]",
      "text/plain": [
       "<Figure size 432x288 with 1 Axes>"
      ]
     },
     "metadata": {
      "needs_background": "light"
     },
     "output_type": "display_data"
    },
    {
     "name": "stdout",
     "output_type": "stream",
     "text": [
      "                0\n",
      "count  120.000000\n",
      "mean     0.033915\n",
      "std      0.361806\n",
      "min     -0.012654\n",
      "25%     -0.001552\n",
      "50%      0.000741\n",
      "75%      0.002945\n",
      "max      3.964027\n"
     ]
    }
   ],
   "source": [
    "a = ARIMA(df_NDG_train, order=(1,1,0))\n",
    "mdl = a.fit()\n",
    "residuals = pd.DataFrame(mdl.resid)\n",
    "residuals.plot(ylim=(-0.05,0.05))\n",
    "residuals.plot(kind='kde')\n",
    "plt.show()\n",
    "print(residuals.describe())"
   ]
  },
  {
   "cell_type": "code",
   "execution_count": 21,
   "id": "3b5b3f04",
   "metadata": {},
   "outputs": [
    {
     "data": {
      "image/png": "[encoded data removed]",
      "text/plain": [
       "<Figure size 432x288 with 1 Axes>"
      ]
     },
     "execution_count": 21,
     "metadata": {},
     "output_type": "execute_result"
    },
    {
     "data": {
      "image/png": "[encoded data removed]",
      "text/plain": [
       "<Figure size 432x288 with 1 Axes>"
      ]
     },
     "metadata": {
      "needs_background": "light"
     },
     "output_type": "display_data"
    }
   ],
   "source": [
    "plot_acf(residuals,zero=False)"
   ]
  },
  {
   "cell_type": "code",
   "execution_count": 22,
   "id": "ff599a07",
   "metadata": {
    "scrolled": false
   },
   "outputs": [
    {
     "data": {
      "image/png": "[encoded data removed]",
      "text/plain": [
       "<Figure size 432x288 with 1 Axes>"
      ]
     },
     "execution_count": 22,
     "metadata": {},
     "output_type": "execute_result"
    },
    {
     "data": {
      "image/png": "[encoded data removed]",
      "text/plain": [
       "<Figure size 432x288 with 1 Axes>"
      ]
     },
     "metadata": {
      "needs_background": "light"
     },
     "output_type": "display_data"
    }
   ],
   "source": [
    "plot_pacf(residuals,zero=False)"
   ]
  },
  {
   "cell_type": "code",
   "execution_count": 23,
   "id": "b2450177",
   "metadata": {
    "scrolled": false
   },
   "outputs": [
    {
     "name": "stdout",
     "output_type": "stream",
     "text": [
      "                               SARIMAX Results                                \n",
      "==============================================================================\n",
      "Dep. Variable:        DNDGRG3M086SBEA   No. Observations:                  120\n",
      "Model:                 ARIMA(1, 1, 0)   Log Likelihood                 483.650\n",
      "Date:                Fri, 15 Apr 2022   AIC                           -963.300\n",
      "Time:                        12:50:53   BIC                           -957.742\n",
      "Sample:                             0   HQIC                          -961.043\n",
      "                                - 120                                         \n",
      "Covariance Type:                  opg                                         \n",
      "==============================================================================\n",
      "                 coef    std err          z      P>|z|      [0.025      0.975]\n",
      "------------------------------------------------------------------------------\n",
      "ar.L1          0.5448      0.070      7.727      0.000       0.407       0.683\n",
      "sigma2       1.72e-05   1.52e-06     11.300      0.000    1.42e-05    2.02e-05\n",
      "===================================================================================\n",
      "Ljung-Box (L1) (Q):                   0.00   Jarque-Bera (JB):                42.18\n",
      "Prob(Q):                              0.97   Prob(JB):                         0.00\n",
      "Heteroskedasticity (H):               0.74   Skew:                             0.48\n",
      "Prob(H) (two-sided):                  0.34   Kurtosis:                         5.76\n",
      "===================================================================================\n",
      "\n",
      "Warnings:\n",
      "[1] Covariance matrix calculated using the outer product of gradients (complex-step).\n"
     ]
    }
   ],
   "source": [
    "print(mdl.summary())"
   ]
  },
  {
   "cell_type": "markdown",
   "id": "e85a7c94",
   "metadata": {},
   "source": [
    "## Predizione"
   ]
  },
  {
   "cell_type": "markdown",
   "id": "836a1b77",
   "metadata": {},
   "source": [
    "### 1 Modello"
   ]
  },
  {
   "cell_type": "code",
   "execution_count": 24,
   "id": "14009805",
   "metadata": {},
   "outputs": [],
   "source": [
    "pred = []\n",
    "test_size = len(df_NDG_test)\n",
    "for i in range(test_size):\n",
    "    a = ARIMA(df_NDG[:len(df_NDG_train)+i], order=(1,1,0))\n",
    "    mdl = a.fit()\n",
    "    pred.append(float(mdl.forecast(1)))"
   ]
  },
  {
   "cell_type": "code",
   "execution_count": 25,
   "id": "7c1ad705",
   "metadata": {
    "scrolled": true
   },
   "outputs": [],
   "source": [
    "pred = pd.Series(pred)"
   ]
  },
  {
   "cell_type": "code",
   "execution_count": 26,
   "id": "b9cea294",
   "metadata": {},
   "outputs": [],
   "source": [
    "pred.index = np.arange(420, 450)"
   ]
  },
  {
   "cell_type": "code",
   "execution_count": 27,
   "id": "65195918",
   "metadata": {
    "scrolled": true
   },
   "outputs": [
    {
     "data": {
      "text/plain": [
       "<AxesSubplot:>"
      ]
     },
     "execution_count": 27,
     "metadata": {},
     "output_type": "execute_result"
    },
    {
     "data": {
      "image/png": "[encoded data removed]",
      "text/plain": [
       "<Figure size 432x288 with 1 Axes>"
      ]
     },
     "metadata": {
      "needs_background": "light"
     },
     "output_type": "display_data"
    }
   ],
   "source": [
    "residuals = df_NDG_test - pred\n",
    "pd.DataFrame(residuals).plot()"
   ]
  },
  {
   "cell_type": "code",
   "execution_count": 28,
   "id": "48e9e79a",
   "metadata": {
    "scrolled": false
   },
   "outputs": [
    {
     "data": {
      "image/png": "[encoded data removed]",
      "text/plain": [
       "<Figure size 432x288 with 1 Axes>"
      ]
     },
     "metadata": {
      "needs_background": "light"
     },
     "output_type": "display_data"
    }
   ],
   "source": [
    "total = pd.concat([df_NDG_train,pred])\n",
    "\n",
    "total.plot(ylim=[4.18,4.25],xlim=[400,450])\n",
    "#total.plot()\n",
    "plt.plot(df_NDG)\n",
    "plt.show()\n"
   ]
  },
  {
   "cell_type": "markdown",
   "id": "a695ccf0",
   "metadata": {},
   "source": [
    "#### Mean square forecast error"
   ]
  },
  {
   "cell_type": "code",
   "execution_count": 29,
   "id": "fee87f23",
   "metadata": {},
   "outputs": [],
   "source": [
    "#MSFE = list(residuals)\n",
    "#MSFE = statistics.mean([x**2 for x in MSFE])\n",
    "#MSFE"
   ]
  },
  {
   "cell_type": "code",
   "execution_count": 60,
   "id": "58b59adc",
   "metadata": {},
   "outputs": [
    {
     "data": {
      "text/plain": [
       "5.7246419176172834e-06"
      ]
     },
     "execution_count": 60,
     "metadata": {},
     "output_type": "execute_result"
    }
   ],
   "source": [
    "MSFE = statistics.mean((df_NDG_test - pred)**2)\n",
    "MSFE"
   ]
  },
  {
   "cell_type": "markdown",
   "id": "24651907",
   "metadata": {},
   "source": [
    "### 2 Modello"
   ]
  },
  {
   "cell_type": "code",
   "execution_count": 33,
   "id": "dde9dfce",
   "metadata": {
    "scrolled": true
   },
   "outputs": [],
   "source": [
    "list_NDG = list(df_NDG)\n",
    "diff_prime = [0]\n",
    "for i in range(1,len(df_NDG)):\n",
    "    diff_prime.append(list_NDG[i] - list_NDG[i-1])"
   ]
  },
  {
   "cell_type": "code",
   "execution_count": 34,
   "id": "a2a69326",
   "metadata": {},
   "outputs": [],
   "source": [
    "df_NDG = pd.DataFrame(df_NDG)"
   ]
  },
  {
   "cell_type": "code",
   "execution_count": 35,
   "id": "186e35ee",
   "metadata": {},
   "outputs": [],
   "source": [
    "diff_prime = pd.Series(diff_prime)"
   ]
  },
  {
   "cell_type": "code",
   "execution_count": 36,
   "id": "c8611535",
   "metadata": {},
   "outputs": [],
   "source": [
    "df_NDG['diff'] = diff_prime.values"
   ]
  },
  {
   "cell_type": "code",
   "execution_count": 61,
   "id": "70aef201",
   "metadata": {},
   "outputs": [
    {
     "data": {
      "text/html": [
       "<div>\n",
       "<style scoped>\n",
       "    .dataframe tbody tr th:only-of-type {\n",
       "        vertical-align: middle;\n",
       "    }\n",
       "\n",
       "    .dataframe tbody tr th {\n",
       "        vertical-align: top;\n",
       "    }\n",
       "\n",
       "    .dataframe thead th {\n",
       "        text-align: right;\n",
       "    }\n",
       "</style>\n",
       "<table border=\"1\" class=\"dataframe\">\n",
       "  <thead>\n",
       "    <tr style=\"text-align: right;\">\n",
       "      <th></th>\n",
       "      <th>DNDGRG3M086SBEA</th>\n",
       "      <th>diff</th>\n",
       "    </tr>\n",
       "  </thead>\n",
       "  <tbody>\n",
       "    <tr>\n",
       "      <th>300</th>\n",
       "      <td>3.964027</td>\n",
       "      <td>0.000000</td>\n",
       "    </tr>\n",
       "    <tr>\n",
       "      <th>301</th>\n",
       "      <td>3.969367</td>\n",
       "      <td>0.005340</td>\n",
       "    </tr>\n",
       "    <tr>\n",
       "      <th>302</th>\n",
       "      <td>3.970028</td>\n",
       "      <td>0.000661</td>\n",
       "    </tr>\n",
       "    <tr>\n",
       "      <th>303</th>\n",
       "      <td>3.969952</td>\n",
       "      <td>-0.000075</td>\n",
       "    </tr>\n",
       "    <tr>\n",
       "      <th>304</th>\n",
       "      <td>3.967609</td>\n",
       "      <td>-0.002343</td>\n",
       "    </tr>\n",
       "    <tr>\n",
       "      <th>...</th>\n",
       "      <td>...</td>\n",
       "      <td>...</td>\n",
       "    </tr>\n",
       "    <tr>\n",
       "      <th>445</th>\n",
       "      <td>4.223632</td>\n",
       "      <td>0.002287</td>\n",
       "    </tr>\n",
       "    <tr>\n",
       "      <th>446</th>\n",
       "      <td>4.229749</td>\n",
       "      <td>0.006118</td>\n",
       "    </tr>\n",
       "    <tr>\n",
       "      <th>447</th>\n",
       "      <td>4.236076</td>\n",
       "      <td>0.006326</td>\n",
       "    </tr>\n",
       "    <tr>\n",
       "      <th>448</th>\n",
       "      <td>4.236958</td>\n",
       "      <td>0.000882</td>\n",
       "    </tr>\n",
       "    <tr>\n",
       "      <th>449</th>\n",
       "      <td>4.232917</td>\n",
       "      <td>-0.004040</td>\n",
       "    </tr>\n",
       "  </tbody>\n",
       "</table>\n",
       "<p>150 rows × 2 columns</p>\n",
       "</div>"
      ],
      "text/plain": [
       "     DNDGRG3M086SBEA      diff\n",
       "300         3.964027  0.000000\n",
       "301         3.969367  0.005340\n",
       "302         3.970028  0.000661\n",
       "303         3.969952 -0.000075\n",
       "304         3.967609 -0.002343\n",
       "..               ...       ...\n",
       "445         4.223632  0.002287\n",
       "446         4.229749  0.006118\n",
       "447         4.236076  0.006326\n",
       "448         4.236958  0.000882\n",
       "449         4.232917 -0.004040\n",
       "\n",
       "[150 rows x 2 columns]"
      ]
     },
     "execution_count": 61,
     "metadata": {},
     "output_type": "execute_result"
    }
   ],
   "source": [
    "df_NDG"
   ]
  },
  {
   "cell_type": "code",
   "execution_count": 37,
   "id": "87042dce",
   "metadata": {},
   "outputs": [],
   "source": [
    "avg_diff = []\n",
    "test_size = len(df_NDG_test)\n",
    "\n",
    "for i in range(test_size):\n",
    "    a = df_NDG[:len(df_NDG_train)+ i+1]['diff'].mean()\n",
    "    avg_diff.append(a)\n",
    "    \n",
    "avg_diff = pd.Series(avg_diff)"
   ]
  },
  {
   "cell_type": "code",
   "execution_count": 43,
   "id": "f9a73c62",
   "metadata": {
    "scrolled": false
   },
   "outputs": [],
   "source": [
    "pred2 = []\n",
    "temp = df_NDG[len(df_NDG_train)-1:]['DNDGRG3M086SBEA'].reset_index(drop=True)\n",
    "\n",
    "for i in range (test_size):\n",
    "    b = avg_diff[i] + temp[i]\n",
    "    pred2.append(b)\n",
    "\n",
    "pred2 = pd.Series(pred2)\n",
    "\n",
    "total = pd.concat([df_NDG_train.reset_index(drop=True), pred2])\n",
    "total.index = np.arange(300, 450)"
   ]
  },
  {
   "cell_type": "code",
   "execution_count": 44,
   "id": "bcaf12e0",
   "metadata": {
    "scrolled": false
   },
   "outputs": [
    {
     "data": {
      "image/png": "[encoded data removed]",
      "text/plain": [
       "<Figure size 432x288 with 1 Axes>"
      ]
     },
     "metadata": {
      "needs_background": "light"
     },
     "output_type": "display_data"
    }
   ],
   "source": [
    "total.plot(ylim=[4.18,4.25],xlim=[400,450])\n",
    "plt.plot(df_NDG['DNDGRG3M086SBEA'])\n",
    "plt.show()"
   ]
  },
  {
   "cell_type": "code",
   "execution_count": 45,
   "id": "62ddc845",
   "metadata": {},
   "outputs": [],
   "source": [
    "residuals2 = df_NDG_test.reset_index(drop=True) - pred2"
   ]
  },
  {
   "cell_type": "code",
   "execution_count": 46,
   "id": "7fd725bb",
   "metadata": {
    "scrolled": true
   },
   "outputs": [
    {
     "data": {
      "text/plain": [
       "<AxesSubplot:>"
      ]
     },
     "execution_count": 46,
     "metadata": {},
     "output_type": "execute_result"
    },
    {
     "data": {
      "image/png": "[encoded data removed]",
      "text/plain": [
       "<Figure size 432x288 with 1 Axes>"
      ]
     },
     "metadata": {
      "needs_background": "light"
     },
     "output_type": "display_data"
    }
   ],
   "source": [
    "residuals2.plot()"
   ]
  },
  {
   "cell_type": "markdown",
   "id": "b87b4053",
   "metadata": {},
   "source": [
    "#### Mean square forecast error"
   ]
  },
  {
   "cell_type": "code",
   "execution_count": 47,
   "id": "e662ae44",
   "metadata": {},
   "outputs": [],
   "source": [
    "#MSFE2 = list(residuals)\n",
    "#MSFE2 = statistics.mean([x**2 for x in MSFE2])\n",
    "#MSFE2"
   ]
  },
  {
   "cell_type": "code",
   "execution_count": 48,
   "id": "0a86b189",
   "metadata": {},
   "outputs": [
    {
     "data": {
      "text/plain": [
       "-0.005391940114661509"
      ]
     },
     "execution_count": 48,
     "metadata": {},
     "output_type": "execute_result"
    }
   ],
   "source": [
    "MSFE2 = statistics.mean(df_NDG_test.reset_index(drop=True)**2 - pred2**2)\n",
    "MSFE2"
   ]
  },
  {
   "cell_type": "markdown",
   "id": "4fae71ac",
   "metadata": {},
   "source": [
    "## Test Diebold-Mariano"
   ]
  },
  {
   "cell_type": "code",
   "execution_count": 49,
   "id": "59c44dca",
   "metadata": {},
   "outputs": [
    {
     "name": "stdout",
     "output_type": "stream",
     "text": [
      "dm_return(DM=-0.8426405108131761, p_value=0.406325768460988)\n",
      "dm_return(DM=-0.7970316534880559, p_value=0.43191012286728314)\n",
      "dm_return(DM=-0.8454843856106136, p_value=0.4047626128482119)\n",
      "dm_return(DM=-0.9033674664861808, p_value=0.3737739865619454)\n"
     ]
    }
   ],
   "source": [
    "from dm_test import dm_test\n",
    "#import random\n",
    "\n",
    "#random.seed(123)\n",
    "actual_lst = list(df_NDG_test)\n",
    "pred1_lst = list(pred)\n",
    "pred2_lst = list(pred2)\n",
    "\n",
    "#actual_lst = random.sample(actual_lst,100)\n",
    "#pred1_lst = random.sample(pred1_lst,100)\n",
    "#pred2_lst = random.sample(pred2_lst,100)\n",
    "\n",
    "rt = dm_test(actual_lst,pred1_lst,pred2_lst,h = 1, crit=\"MAD\")\n",
    "print (rt)\n",
    "rt = dm_test(actual_lst,pred1_lst,pred2_lst,h = 1, crit=\"MSE\")\n",
    "print (rt)\n",
    "rt = dm_test(actual_lst,pred1_lst,pred2_lst,h = 1, crit=\"MAPE\")\n",
    "print (rt)\n",
    "rt = dm_test(actual_lst,pred1_lst,pred2_lst,h = 1, crit=\"poly\", power=4)\n",
    "print (rt)"
   ]
  },
  {
   "cell_type": "code",
   "execution_count": null,
   "id": "c904d483",
   "metadata": {},
   "outputs": [],
   "source": []
  },
  {
   "cell_type": "code",
   "execution_count": null,
   "id": "a932be83",
   "metadata": {},
   "outputs": [],
   "source": []
  },
  {
   "cell_type": "code",
   "execution_count": null,
   "id": "62334b5e",
   "metadata": {},
   "outputs": [],
   "source": []
  },
  {
   "cell_type": "code",
   "execution_count": null,
   "id": "8a9b7508",
   "metadata": {},
   "outputs": [],
   "source": []
  },
  {
   "cell_type": "code",
   "execution_count": null,
   "id": "f40efd06",
   "metadata": {},
   "outputs": [],
   "source": []
  },
  {
   "cell_type": "code",
   "execution_count": null,
   "id": "f83f3738",
   "metadata": {},
   "outputs": [],
   "source": []
  },
  {
   "cell_type": "code",
   "execution_count": null,
   "id": "b3cbb011",
   "metadata": {},
   "outputs": [],
   "source": []
  }
 ],
 "metadata": {
  "kernelspec": {
   "display_name": "Python 3 (ipykernel)",
   "language": "python",
   "name": "python3"
  },
  "language_info": {
   "codemirror_mode": {
    "name": "ipython",
    "version": 3
   },
   "file_extension": ".py",
   "mimetype": "text/x-python",
   "name": "python",
   "nbconvert_exporter": "python",
   "pygments_lexer": "ipython3",
   "version": "3.8.8"
  },
  "varInspector": {
   "cols": {
    "lenName": 16,
    "lenType": 16,
    "lenVar": 40
   },
   "kernels_config": {
    "python": {
     "delete_cmd_postfix": "",
     "delete_cmd_prefix": "del ",
     "library": "var_list.py",
     "varRefreshCmd": "print(var_dic_list())"
    },
    "r": {
     "delete_cmd_postfix": ") ",
     "delete_cmd_prefix": "rm(",
     "library": "var_list.r",
     "varRefreshCmd": "cat(var_dic_list()) "
    }
   },
   "types_to_exclude": [
    "module",
    "function",
    "builtin_function_or_method",
    "instance",
    "_Feature"
   ],
   "window_display": false
  }
 },
 "nbformat": 4,
 "nbformat_minor": 5
}
