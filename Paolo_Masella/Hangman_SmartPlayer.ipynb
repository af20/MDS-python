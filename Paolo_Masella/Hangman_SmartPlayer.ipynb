{
 "cells": [
  {
   "cell_type": "markdown",
   "id": "b23d574b",
   "metadata": {},
   "source": [
    "# Hangman"
   ]
  },
  {
   "cell_type": "code",
   "execution_count": 63,
   "id": "94f15b4d",
   "metadata": {},
   "outputs": [],
   "source": [
    "from typing import List\n",
    "import numpy as np\n",
    "import matplotlib.pyplot as plt\n",
    "import seaborn as sns"
   ]
  },
  {
   "cell_type": "code",
   "execution_count": 8,
   "id": "2bbecdb8",
   "metadata": {},
   "outputs": [],
   "source": [
    "class Hangman(object):\n",
    "    \n",
    "    def __init__(self, \n",
    "                 list_of_words: List[str],\n",
    "                 word_len: int = 6,\n",
    "                 trials: int = 8):\n",
    "        self._idx = {}\n",
    "        self.word_len, self.trials = word_len, trials\n",
    "        self._update_index(list_of_words)\n",
    "        self.selected_word = None\n",
    "        self._select_word()\n",
    "        self.mask = ['_'] * len(self.selected_word)\n",
    "                \n",
    "    def _update_index(self, list_of_words: List[str]):\n",
    "        for word in list_of_words:\n",
    "            try:\n",
    "                self._idx[len(word)].append(word)\n",
    "            except KeyError:\n",
    "                self._idx[len(word)] = [word]\n",
    "    \n",
    "    def get_words(self, length: int):\n",
    "        try:\n",
    "            return self._idx[length]\n",
    "        except KeyError:\n",
    "            return []\n",
    "        \n",
    "    def add_words(self, list_of_words: List[str]):\n",
    "        self._update_index(list_of_words)\n",
    "        \n",
    "    def print_status(self):\n",
    "        print(self.mask)\n",
    "        print('\\nRemaining trials {}'.format(self.trials))\n",
    "        \n",
    "    def play(self, guess: str):\n",
    "        self.trials -= 1\n",
    "        for i, ch in enumerate(self.selected_word):\n",
    "            if guess[i] == ch:\n",
    "                self.mask[i] = ch\n",
    "        return self.mask\n",
    "         \n",
    "    def _select_word(self):\n",
    "        try:\n",
    "            candidates = self._idx[self.word_len]\n",
    "            self.selected_word = np.random.choice(candidates)\n",
    "        except KeyError:\n",
    "            print(\n",
    "                'Non esistono parole di lunghezza {}'.format(\n",
    "                self.word_len))"
   ]
  },
  {
   "cell_type": "code",
   "execution_count": 9,
   "id": "88e49db1",
   "metadata": {},
   "outputs": [],
   "source": [
    "file_path = 'words/1000_parole_italiane.txt'\n",
    "with open(file_path, 'r', encoding='utf-8') as fhandle:\n",
    "    lines = fhandle.readlines()\n",
    "words = [w.strip('\\n') for w in lines]"
   ]
  },
  {
   "cell_type": "markdown",
   "id": "63daae0a",
   "metadata": {},
   "source": [
    "# Implementazione player Hangman"
   ]
  },
  {
   "cell_type": "code",
   "execution_count": 10,
   "id": "2564b45d",
   "metadata": {},
   "outputs": [],
   "source": [
    "from collections import defaultdict"
   ]
  },
  {
   "cell_type": "code",
   "execution_count": 66,
   "id": "edb68150",
   "metadata": {},
   "outputs": [],
   "source": [
    "class Player(object):\n",
    "    \n",
    "    def __init__(self, hangman : Hangman, list_of_words = List[str]):\n",
    "        self.hangman = hangman\n",
    "        char_index=defaultdict(lambda : 0)\n",
    "        for word in list_of_words:\n",
    "            for char in word:\n",
    "                char_index[char] += 1\n",
    "        self.char_frequency = [c for c, f in sorted(list(char_index.items()), key = lambda x : -x[1] )]\n",
    "        self.char_to_try = 0\n",
    "        self.positions_guessed = {}\n",
    "    \n",
    "    def trial(self):\n",
    "        guess = self.char_frequency[self.char_to_try] * self.hangman.word_len\n",
    "        mask = self.hangman.play(guess)\n",
    "        self.char_to_try += 1\n",
    "        for i, ch in enumerate(mask):\n",
    "            if ch != '_' :\n",
    "                self.positions_guessed [i] = ch\n",
    "                \n",
    "    def play(self):\n",
    "        while True:\n",
    "            self.trial()\n",
    "            if '_' not in self.hangman.mask:\n",
    "                return(self.hangman.mask)\n",
    "                break\n",
    "            elif self.hangman.trials <= 0:\n",
    "                return(self.hangman.mask)\n",
    "                break\n",
    "            else:\n",
    "                continue"
   ]
  },
  {
   "cell_type": "markdown",
   "id": "74fac6a5",
   "metadata": {},
   "source": [
    "# Implementazione SmartPlayer Hangman"
   ]
  },
  {
   "cell_type": "code",
   "execution_count": 73,
   "id": "c0b28a69",
   "metadata": {},
   "outputs": [],
   "source": [
    "class SmartPlayer(object):\n",
    "    \n",
    "    def __init__(self, hangman : Hangman, list_of_words = List[str]):\n",
    "        \n",
    "        self.hangman = hangman\n",
    "        self.char_index=defaultdict(lambda : 0)\n",
    "        self.list_of_words=list_of_words\n",
    "        for word in self.list_of_words:\n",
    "            for char in word:\n",
    "                self.char_index[char] += 1\n",
    "        self.char_frequency = [c for c, f in sorted(list(self.char_index.items()), key = lambda x : -x[1] )]\n",
    "        self.char_to_try = 0\n",
    "        self.positions_guessed = {}\n",
    "        self.control_mask = ['_']*self.hangman.word_len\n",
    "        self.mask=['_']*self.hangman.word_len\n",
    "        self.controllo=[]\n",
    "        \n",
    "        \n",
    "        \n",
    "    def list_filter(self,mask):\n",
    "        \n",
    "        empty_mask = ['_']*len(self.hangman.mask)\n",
    "        new_list_of_words = []\n",
    "        new_list = []\n",
    "        for word in self.list_of_words:\n",
    "            if len(word) == len(self.hangman.mask):\n",
    "                new_list_of_words.append(word)\n",
    "        for word in new_list_of_words:\n",
    "            mask_word = list(word)\n",
    "            for i in range(len(mask)):\n",
    "                if mask[i] == '_':\n",
    "                    mask_word[i] = '_'\n",
    "            if mask_word == mask:\n",
    "                new_list.append(word)\n",
    "        return new_list\n",
    "                        \n",
    "    \n",
    "    \n",
    "    def trial(self):      \n",
    "        \n",
    "        guess=self.char_frequency[self.char_to_try]*self.hangman.word_len\n",
    "        self.controllo.append(self.char_frequency[self.char_to_try])\n",
    "        mask = self.hangman.play(guess)\n",
    "        if self.char_frequency[self.char_to_try] in mask:\n",
    "            self.char_index=defaultdict(lambda : 0)\n",
    "            self.list_of_words=self.list_filter(mask)\n",
    "            for word in self.list_of_words:      \n",
    "                for char in word:\n",
    "                    self.char_index[char] += 1      \n",
    "            self.char_frequency = [c for c, f in sorted(list(self.char_index.items()), key = lambda x : -x[1] )]    \n",
    "            self.char_to_try = 0\n",
    "            for ch in self.controllo :\n",
    "                if ch in self.char_frequency:        \n",
    "                    self.char_frequency.remove(ch)                   \n",
    "        else:\n",
    "            self.char_to_try +=1\n",
    "                    \n",
    "        \n",
    "                \n",
    "    def play(self): \n",
    "        \n",
    "        while True:\n",
    "            self.trial()\n",
    "            if '_' not in self.hangman.mask:\n",
    "                return(self.hangman.mask)\n",
    "                break\n",
    "            elif self.hangman.trials <= 0:\n",
    "                return(self.hangman.mask)\n",
    "                break\n",
    "            else:\n",
    "                continue"
   ]
  },
  {
   "cell_type": "markdown",
   "id": "6f1f84fc",
   "metadata": {},
   "source": [
    "# Rappresentazione risultati di Player"
   ]
  },
  {
   "cell_type": "code",
   "execution_count": 74,
   "id": "7b7fb868",
   "metadata": {},
   "outputs": [],
   "source": [
    "win_counter=0\n",
    "loss_counter=0\n",
    "\n",
    "for n in range(1000):\n",
    "    \n",
    "    h=Hangman(words, word_len=6, trials=8)\n",
    "    player=Player(h, words)\n",
    "    result = player.play()    \n",
    "    if '_' not in result:\n",
    "        win_counter+=1\n",
    "    else:\n",
    "        loss_counter+=1       \n",
    "    \n",
    "values=['Loss','Win']\n",
    "frequencies=[loss_counter,win_counter]"
   ]
  },
  {
   "cell_type": "code",
   "execution_count": 75,
   "id": "f83028fb",
   "metadata": {},
   "outputs": [
    {
     "data": {
      "image/png": "[encoded data removed]",
      "text/plain": [
       "<Figure size 432x288 with 1 Axes>"
      ]
     },
     "metadata": {},
     "output_type": "display_data"
    }
   ],
   "source": [
    "title= '1000 PARTITE HANGMAN di Player'\n",
    "sns.set_style('ticks')\n",
    "axes = sns.barplot(x=values, y=frequencies, palette='bright')\n",
    "axes.set_title(title)\n",
    "axes.set_ylim(top=max(frequencies)*1.15)\n",
    "for bar, frequency in zip(axes.patches, frequencies):\n",
    "    text_x = bar.get_x()+bar.get_width()/2\n",
    "    text_y=bar.get_height()\n",
    "    text = f'{frequency/1000:.1%}'\n",
    "    axes.text(text_x, text_y, text,\n",
    "             fontsize=11,ha='center',va='bottom')\n",
    "    "
   ]
  },
  {
   "cell_type": "markdown",
   "id": "42dd6885",
   "metadata": {},
   "source": [
    "# Rappresentazione risultati di SmartPlayer"
   ]
  },
  {
   "cell_type": "code",
   "execution_count": 76,
   "id": "179f2134",
   "metadata": {},
   "outputs": [],
   "source": [
    "win_counter=0\n",
    "loss_counter=0\n",
    "\n",
    "for n in range(1000):\n",
    "    \n",
    "    h=Hangman(words, word_len=6, trials=8)\n",
    "    player=SmartPlayer(h, words)\n",
    "    result = player.play()    \n",
    "    if '_' not in result:\n",
    "        win_counter+=1\n",
    "    else:\n",
    "        loss_counter+=1       \n",
    "    \n",
    "values=['Loss','Win']\n",
    "frequencies=[loss_counter,win_counter]\n",
    "    "
   ]
  },
  {
   "cell_type": "code",
   "execution_count": 80,
   "id": "450a8935",
   "metadata": {},
   "outputs": [
    {
     "data": {
      "image/png": "[encoded data removed]",
      "text/plain": [
       "<Figure size 432x288 with 1 Axes>"
      ]
     },
     "metadata": {},
     "output_type": "display_data"
    }
   ],
   "source": [
    "title= '1000 PARTITE HANGMAN di SmartPlayer'\n",
    "sns.set_style('ticks')\n",
    "axes = sns.barplot(x=values, y=frequencies, palette='bright')\n",
    "axes.set_title(title)\n",
    "axes.set_ylim(top=max(frequencies)*1.15)\n",
    "for bar, frequency in zip(axes.patches, frequencies):\n",
    "    text_x = bar.get_x()+bar.get_width()/2\n",
    "    text_y=bar.get_height()\n",
    "    text = f'{frequency/1000:.1%}'\n",
    "    axes.text(text_x, text_y, text,\n",
    "             fontsize=11,ha='center',va='bottom')"
   ]
  },
  {
   "cell_type": "code",
   "execution_count": null,
   "id": "aaf75ee8",
   "metadata": {},
   "outputs": [],
   "source": []
  }
 ],
 "metadata": {
  "kernelspec": {
   "display_name": "Python 3",
   "language": "python",
   "name": "python3"
  },
  "language_info": {
   "codemirror_mode": {
    "name": "ipython",
    "version": 3
   },
   "file_extension": ".py",
   "mimetype": "text/x-python",
   "name": "python",
   "nbconvert_exporter": "python",
   "pygments_lexer": "ipython3",
   "version": "3.8.8"
  }
 },
 "nbformat": 4,
 "nbformat_minor": 5
}
