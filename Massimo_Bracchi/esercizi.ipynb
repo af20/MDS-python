{
 "cells": [
  {
   "cell_type": "code",
   "execution_count": 7,
   "id": "b89875a4",
   "metadata": {},
   "outputs": [
    {
     "data": {
      "text/plain": [
       "[0, 1, 2, 3, 4, 5, 6, 7, 8, 9, 10]"
      ]
     },
     "execution_count": 7,
     "metadata": {},
     "output_type": "execute_result"
    }
   ],
   "source": [
    "A = [i for i in range(11)]\n",
    "A"
   ]
  },
  {
   "cell_type": "code",
   "execution_count": 10,
   "id": "b86fb791",
   "metadata": {},
   "outputs": [
    {
     "data": {
      "text/plain": [
       "[0, 1, 2, 3, 4]"
      ]
     },
     "execution_count": 10,
     "metadata": {},
     "output_type": "execute_result"
    }
   ],
   "source": [
    "B = A[0:5]\n",
    "B"
   ]
  },
  {
   "cell_type": "code",
   "execution_count": 16,
   "id": "4cb9546c",
   "metadata": {},
   "outputs": [
    {
     "data": {
      "text/plain": [
       "[3, 4]"
      ]
     },
     "execution_count": 16,
     "metadata": {},
     "output_type": "execute_result"
    }
   ],
   "source": [
    "C = [i for i in A if i < 5 and i > 2]\n",
    "C\n"
   ]
  },
  {
   "cell_type": "code",
   "execution_count": 31,
   "id": "5a175192",
   "metadata": {},
   "outputs": [
    {
     "name": "stdout",
     "output_type": "stream",
     "text": [
      "Inserisci un numero 3\n",
      "Inserisci un altro numero 5\n",
      "Il numero più grande è 5\n"
     ]
    }
   ],
   "source": [
    "#Scrivi una funzione che prende due numeri come parametro e manda in print il più grande tra i due.\n",
    "#Per quanto Python disponga di una funzione max(), sei invitato a utilizzare le istruzioni If, \n",
    "#Elif ed Else per la scrittura dell'algoritmo.\n",
    "\n",
    "x = int(input(\"Inserisci un numero \"))\n",
    "y = int(input(\"Inserisci un altro numero \"))\n",
    "\n",
    "def num_max(x, y):\n",
    "    if x > y:\n",
    "        print (\"Il numero più grande è \" + str(x)) \n",
    "    elif x < y:\n",
    "        print (\"Il numero più grande è \" + str(y)) \n",
    "    else:\n",
    "        print(\"I due numeri sono uguali\")\n",
    "\n",
    "num_max(x, y)"
   ]
  },
  {
   "cell_type": "code",
   "execution_count": null,
   "id": "13c20efd",
   "metadata": {},
   "outputs": [],
   "source": []
  },
  {
   "cell_type": "code",
   "execution_count": 32,
   "id": "d0ec7f02",
   "metadata": {},
   "outputs": [
    {
     "name": "stdout",
     "output_type": "stream",
     "text": [
      "Inserisci un numero \n",
      "4\n",
      "Inserisci un altro numero \n",
      "5\n",
      "Inserisci un altro numero \n",
      "6\n"
     ]
    },
    {
     "data": {
      "text/plain": [
       "6"
      ]
     },
     "execution_count": 32,
     "metadata": {},
     "output_type": "execute_result"
    }
   ],
   "source": [
    "#Scrivi una funzione che prende stavolta tre numeri come parametro e restituisce il più grande tra loro!\n",
    "\n",
    "x = int(input(\"Inserisci un numero \\n\"))\n",
    "y = int(input(\"Inserisci un altro numero \\n\"))\n",
    "z = int(input(\"Inserisci un altro numero \\n\"))\n",
    "\n",
    "def num_alto(x, y, z):\n",
    "    if x > y and x > z:\n",
    "        return x\n",
    "    elif y > x and y > z:\n",
    "        return y\n",
    "    elif z > x and z > y:\n",
    "        return z\n",
    "    else:\n",
    "        print (\"I tre numeri sono uguali\")\n",
    "\n",
    "num_alto(x, y, z)"
   ]
  },
  {
   "cell_type": "code",
   "execution_count": 2,
   "id": "db957810",
   "metadata": {},
   "outputs": [
    {
     "name": "stdout",
     "output_type": "stream",
     "text": [
      "Inserisci un carattere \n",
      "r\n",
      "il carattere inserito non è una vocale\n"
     ]
    }
   ],
   "source": [
    "#Scrivi una funzione a cui viene passato un carattere come \n",
    "#parametro e che ci dice se il carattere è o meno una vocale.\n",
    "\n",
    "vocali = \"aeiou\"\n",
    "carattere = str(input(\"Inserisci un carattere \\n\"))\n",
    "\n",
    "def trova_vocali():\n",
    "    if carattere in vocali:\n",
    "        print (\"il carattere inserito è una vocale\")\n",
    "    else:\n",
    "        print (\"il carattere inserito non è una vocale\")\n",
    "\n",
    "trova_vocali()\n"
   ]
  },
  {
   "cell_type": "code",
   "execution_count": 3,
   "id": "d883f5a9",
   "metadata": {},
   "outputs": [
    {
     "name": "stdout",
     "output_type": "stream",
     "text": [
      "[0, 2, 4, 6, 8, 10, 12, 14, 16, 18, 20]\n"
     ]
    }
   ],
   "source": [
    "#Crea una lista di soli numeri pari in un intervallo 0-20\n",
    "\n",
    "numeri_pari = []\n",
    "for numero in range (21):\n",
    "    if (numero % 2 == 0):\n",
    "        numeri_pari.append(numero)\n",
    "    \n",
    "print(numeri_pari)"
   ]
  },
  {
   "cell_type": "code",
   "execution_count": 16,
   "id": "f908d4ce",
   "metadata": {},
   "outputs": [
    {
     "data": {
      "text/plain": [
       "[-45, -32, -5, 0, 4, 20, 21, 48]"
      ]
     },
     "execution_count": 16,
     "metadata": {},
     "output_type": "execute_result"
    }
   ],
   "source": [
    "#Scrivere una funzione che prenda in ingresso una lista di numeri \n",
    "#e in output ritorni la sequenza ordinata\n",
    "#dal numero più piccolo al più grande.\n",
    "\n",
    "lista_1 = [20, 48, -45, 4, 21, -5, -32, 0]\n",
    "lista_1.sort()\n",
    "lista_1\n"
   ]
  },
  {
   "cell_type": "code",
   "execution_count": 28,
   "id": "adadd84d",
   "metadata": {},
   "outputs": [
    {
     "name": "stdout",
     "output_type": "stream",
     "text": [
      "oaic\n"
     ]
    }
   ],
   "source": [
    "word = (\"ciao\")\n",
    "print(word[::-1])"
   ]
  },
  {
   "cell_type": "code",
   "execution_count": 31,
   "id": "3965a7b3",
   "metadata": {},
   "outputs": [
    {
     "name": "stdout",
     "output_type": "stream",
     "text": [
      "Inserisci una parola cane\n",
      "La parola cane contiene 2 vocali\n"
     ]
    }
   ],
   "source": [
    "#crea uno script in grado di contare le vocali in una parola\n",
    "\n",
    "def ritorna_vocali(parola):\n",
    "    vocali = ['a', 'e', 'i', 'o', 'u']\n",
    "    return [lettera for lettera in parola if lettera.lower() in vocali]\n",
    "\n",
    "if __name__ == '__main__':\n",
    "    parola = input(\"Inserisci una parola \")\n",
    "    vocali = ritorna_vocali(parola)\n",
    "    print(\"La parola {0} contiene {1} vocali\".format(parola, len(vocali)))"
   ]
  },
  {
   "cell_type": "code",
   "execution_count": null,
   "id": "c5c34a66",
   "metadata": {},
   "outputs": [],
   "source": []
  }
 ],
 "metadata": {
  "kernelspec": {
   "display_name": "Python 3",
   "language": "python",
   "name": "python3"
  },
  "language_info": {
   "codemirror_mode": {
    "name": "ipython",
    "version": 3
   },
   "file_extension": ".py",
   "mimetype": "text/x-python",
   "name": "python",
   "nbconvert_exporter": "python",
   "pygments_lexer": "ipython3",
   "version": "3.8.8"
  }
 },
 "nbformat": 4,
 "nbformat_minor": 5
}
