{
 "cells": [
  {
   "cell_type": "code",
   "execution_count": 1,
   "id": "37372013",
   "metadata": {},
   "outputs": [
    {
     "name": "stdout",
     "output_type": "stream",
     "text": [
      "4 3 12 3.0 2 2 8\n"
     ]
    }
   ],
   "source": [
    "#Numbers\n",
    "\n",
    "a = 2 + 2 #somma\n",
    "b = 5 - 2 #sottrazione\n",
    "c = 3 * 4 #prodotto\n",
    "d = 6 / 2 #divisione\n",
    "e = 8 // 3 #prende il numero intero della divisione\n",
    "f = 8 % 3 #prende il resto della divisione\n",
    "g = 2 ** 3 #elevamento a potenza\n",
    "print (a, b, c, d, e, f, g)"
   ]
  },
  {
   "cell_type": "code",
   "execution_count": 2,
   "id": "b0c19bb1",
   "metadata": {},
   "outputs": [
    {
     "name": "stdout",
     "output_type": "stream",
     "text": [
      "Python P n\n",
      "sto tutorial storia\n"
     ]
    },
    {
     "data": {
      "text/plain": [
       "24"
      ]
     },
     "execution_count": 2,
     "metadata": {},
     "output_type": "execute_result"
    }
   ],
   "source": [
    "#Strings\n",
    "\n",
    "word = \"Python\"\n",
    "x = word[0] #la prima lettera della parola è in posizione 0\n",
    "y = word[-1] #l'ultima lettera è in posizione -1\n",
    "print (word, x, y)\n",
    "xy = \"sto leggendo il tutorial\"\n",
    "z = xy[0:3] #comando che prende le lettere dalla posizione 0 alla 2\n",
    "z_1 = xy[-8:] #comando che prende le ultime 8 lettere\n",
    "z_2 = xy[0:3] + xy[-4:-1] #concatenazione tra stringhe\n",
    "print (z, z_1, z_2)\n",
    "len(xy) #funzione che restituisce la lunghezza della stringa"
   ]
  },
  {
   "cell_type": "code",
   "execution_count": 10,
   "id": "222d8efc",
   "metadata": {},
   "outputs": [],
   "source": [
    "#List : oggetti mutabili\n",
    "\n",
    "myList = [] #lista vuota  \n",
    "cubes = [1, 8, 27, 65]\n",
    "cubes[1] #prende il primo elemento della lista\n",
    "cubes[3] = 64 # posso cambiarne il contenuto"
   ]
  },
  {
   "cell_type": "code",
   "execution_count": 11,
   "id": "85b5f055",
   "metadata": {},
   "outputs": [
    {
     "data": {
      "text/plain": [
       "[1, 8, 27, 64]"
      ]
     },
     "execution_count": 11,
     "metadata": {},
     "output_type": "execute_result"
    }
   ],
   "source": [
    "cubes"
   ]
  },
  {
   "cell_type": "code",
   "execution_count": 12,
   "id": "fe3b836f",
   "metadata": {},
   "outputs": [
    {
     "data": {
      "text/plain": [
       "[1, 8, 27, 64, 125]"
      ]
     },
     "execution_count": 12,
     "metadata": {},
     "output_type": "execute_result"
    }
   ],
   "source": [
    "cubes.append(125)\n",
    "#funzione che aggiunge un valore nell'ultima posizione\n",
    "cubes"
   ]
  },
  {
   "cell_type": "code",
   "execution_count": 13,
   "id": "f44dcf79",
   "metadata": {},
   "outputs": [
    {
     "data": {
      "text/plain": [
       "[1, 8, 50, 27, 64, 125]"
      ]
     },
     "execution_count": 13,
     "metadata": {},
     "output_type": "execute_result"
    }
   ],
   "source": [
    "cubes.insert(2,50)\n",
    "cubes"
   ]
  },
  {
   "cell_type": "code",
   "execution_count": 17,
   "id": "ce4c5a23",
   "metadata": {},
   "outputs": [
    {
     "data": {
      "text/plain": [
       "[1, 50, 27, 64, 125]"
      ]
     },
     "execution_count": 17,
     "metadata": {},
     "output_type": "execute_result"
    }
   ],
   "source": [
    "del cubes[1] #elimina il valore in posizione 1\n",
    "cubes"
   ]
  },
  {
   "cell_type": "code",
   "execution_count": 18,
   "id": "1ccde5e3",
   "metadata": {},
   "outputs": [
    {
     "data": {
      "text/plain": [
       "False"
      ]
     },
     "execution_count": 18,
     "metadata": {},
     "output_type": "execute_result"
    }
   ],
   "source": [
    "20 in cubes #funzione che ritorna un \n",
    "            #boolean e ci dice se il valore è nella lista"
   ]
  },
  {
   "cell_type": "code",
   "execution_count": 14,
   "id": "abf027f2",
   "metadata": {
    "scrolled": true
   },
   "outputs": [
    {
     "data": {
      "text/plain": [
       "6"
      ]
     },
     "execution_count": 14,
     "metadata": {},
     "output_type": "execute_result"
    }
   ],
   "source": [
    "len(cubes) #la funzione len si applica anche alle liste"
   ]
  },
  {
   "cell_type": "code",
   "execution_count": 15,
   "id": "b5767d98",
   "metadata": {},
   "outputs": [],
   "source": [
    "myList = [[1,2],[2,3],[6,7]] #lista di liste"
   ]
  },
  {
   "cell_type": "code",
   "execution_count": 16,
   "id": "ade8bc1c",
   "metadata": {},
   "outputs": [
    {
     "data": {
      "text/plain": [
       "3"
      ]
     },
     "execution_count": 16,
     "metadata": {},
     "output_type": "execute_result"
    }
   ],
   "source": [
    "myList[1][1] #prende il secondo elemento del secondo gruppo"
   ]
  },
  {
   "cell_type": "code",
   "execution_count": 17,
   "id": "a1544bda",
   "metadata": {},
   "outputs": [
    {
     "data": {
      "text/plain": [
       "[10, 20]"
      ]
     },
     "execution_count": 17,
     "metadata": {},
     "output_type": "execute_result"
    }
   ],
   "source": [
    "myList = [10, 20, 30]\n",
    "myList[:2] # lo slicing può essere applicato anche qui"
   ]
  },
  {
   "cell_type": "code",
   "execution_count": 21,
   "id": "9bb55184",
   "metadata": {},
   "outputs": [
    {
     "data": {
      "text/plain": [
       "'oro'"
      ]
     },
     "execution_count": 21,
     "metadata": {},
     "output_type": "execute_result"
    }
   ],
   "source": [
    "#Tuple: sequenza immutabile, questa è la differenza con le liste\n",
    "\n",
    "medaglie = ('oro', 'argento', 'bronzo') #parentesi NON obbligatorie\n",
    "o, a, b = medaglie #spacchettamento\n",
    "o"
   ]
  },
  {
   "cell_type": "code",
   "execution_count": 22,
   "id": "a9996abc",
   "metadata": {},
   "outputs": [
    {
     "data": {
      "text/plain": [
       "[(1, 2), (3, 4)]"
      ]
     },
     "execution_count": 22,
     "metadata": {},
     "output_type": "execute_result"
    }
   ],
   "source": [
    "#lista di tuple\n",
    "t1 = (1, 2)\n",
    "t2 = (3, 4)\n",
    "myList = [t1, t2]\n",
    "myList"
   ]
  },
  {
   "cell_type": "code",
   "execution_count": 23,
   "id": "049a4f34",
   "metadata": {},
   "outputs": [
    {
     "data": {
      "text/plain": [
       "{'primo': 10, 'secondo': 20, 'terzo': 30}"
      ]
     },
     "execution_count": 23,
     "metadata": {},
     "output_type": "execute_result"
    }
   ],
   "source": [
    "#Dizionari: simile alle liste ma l'ordine degli elementi non \n",
    "#è definito perchè i dizionari non sono delle sequenze\n",
    "\n",
    "myDict = {\n",
    "    \"primo\":10, #la chiave è una stringa in questo caso\n",
    "    \"secondo\":20,\n",
    "    \"terzo\":30\n",
    "}\n",
    "myDict"
   ]
  },
  {
   "cell_type": "code",
   "execution_count": 25,
   "id": "cf5ecea8",
   "metadata": {},
   "outputs": [
    {
     "data": {
      "text/plain": [
       "{'primo': 10, 'secondo': 20, 'terzo': 30, 'quarto': 40}"
      ]
     },
     "execution_count": 25,
     "metadata": {},
     "output_type": "execute_result"
    }
   ],
   "source": [
    "myDict[\"quarto\"] = 40\n",
    "myDict"
   ]
  },
  {
   "cell_type": "code",
   "execution_count": 26,
   "id": "330fbad2",
   "metadata": {},
   "outputs": [
    {
     "data": {
      "text/plain": [
       "{'primo': 10, 'terzo': 30, 'quarto': 40}"
      ]
     },
     "execution_count": 26,
     "metadata": {},
     "output_type": "execute_result"
    }
   ],
   "source": [
    "del myDict[\"secondo\"]\n",
    "myDict"
   ]
  },
  {
   "cell_type": "code",
   "execution_count": 27,
   "id": "ea4c0cd1",
   "metadata": {},
   "outputs": [
    {
     "data": {
      "text/plain": [
       "{}"
      ]
     },
     "execution_count": 27,
     "metadata": {},
     "output_type": "execute_result"
    }
   ],
   "source": [
    "myDict.clear() #elimina tutte le chiavi e i valori\n",
    "myDict"
   ]
  },
  {
   "cell_type": "code",
   "execution_count": 28,
   "id": "51c5db9a",
   "metadata": {},
   "outputs": [
    {
     "data": {
      "text/plain": [
       "False"
      ]
     },
     "execution_count": 28,
     "metadata": {},
     "output_type": "execute_result"
    }
   ],
   "source": [
    "\"terzo\" in myDict"
   ]
  },
  {
   "cell_type": "code",
   "execution_count": 35,
   "id": "3b9d86c4",
   "metadata": {},
   "outputs": [
    {
     "data": {
      "text/plain": [
       "({10: 'a', 20: 'b'}, {30: 'c'})"
      ]
     },
     "execution_count": 35,
     "metadata": {},
     "output_type": "execute_result"
    }
   ],
   "source": [
    "d1 = {10 : 'a', 20 : 'b'}\n",
    "d2 = {30 : 'c'}\n",
    "d1, d2"
   ]
  },
  {
   "cell_type": "code",
   "execution_count": 47,
   "id": "7f68900e",
   "metadata": {},
   "outputs": [
    {
     "data": {
      "text/plain": [
       "(dict_items([(10, 'a'), (20, 'b')]), dict_items([(30, 'c')]))"
      ]
     },
     "execution_count": 47,
     "metadata": {},
     "output_type": "execute_result"
    }
   ],
   "source": [
    "l1 = d1.items() #viene creata una specie di lista che contiene, \n",
    "#come elementi, delle tuple e in ogni tupla è stata \n",
    "#inserita sia la chiave sia il valore del dizionario\n",
    "l2 = d2.items()\n",
    "l1, l2"
   ]
  },
  {
   "cell_type": "code",
   "execution_count": 48,
   "id": "ac050dfc",
   "metadata": {},
   "outputs": [
    {
     "data": {
      "text/plain": [
       "{10: 'a', 20: 'b'}"
      ]
     },
     "execution_count": 48,
     "metadata": {},
     "output_type": "execute_result"
    }
   ],
   "source": [
    "d3 = dict(l1)\n",
    "d3"
   ]
  },
  {
   "cell_type": "code",
   "execution_count": 4,
   "id": "a693e178",
   "metadata": {},
   "outputs": [
    {
     "data": {
      "text/plain": [
       "{10, 20, 30, 40}"
      ]
     },
     "execution_count": 4,
     "metadata": {},
     "output_type": "execute_result"
    }
   ],
   "source": [
    "#Set (insieme): come una specie di dizionario dal quale eliminiamo i valori\n",
    "# e teniamo solo le chiavi\n",
    "#Set è mutabile\n",
    "\n",
    "mySet = {10, 20, 30, 40}\n",
    "mySet"
   ]
  },
  {
   "cell_type": "code",
   "execution_count": 7,
   "id": "1a3026bd",
   "metadata": {},
   "outputs": [
    {
     "data": {
      "text/plain": [
       "set()"
      ]
     },
     "execution_count": 7,
     "metadata": {},
     "output_type": "execute_result"
    }
   ],
   "source": [
    "#per creare un insieme vuoto \n",
    "\n",
    "mySet = set()\n",
    "mySet"
   ]
  },
  {
   "cell_type": "code",
   "execution_count": 9,
   "id": "99862898",
   "metadata": {},
   "outputs": [
    {
     "data": {
      "text/plain": [
       "{10, 20, 30}"
      ]
     },
     "execution_count": 9,
     "metadata": {},
     "output_type": "execute_result"
    }
   ],
   "source": [
    "mySet.add(10)\n",
    "mySet.add(20)\n",
    "mySet.add(30)\n",
    "mySet"
   ]
  },
  {
   "cell_type": "code",
   "execution_count": 10,
   "id": "17a01af3",
   "metadata": {},
   "outputs": [
    {
     "ename": "AttributeError",
     "evalue": "'frozenset' object has no attribute 'add'",
     "output_type": "error",
     "traceback": [
      "\u001b[0;31m---------------------------------------------------------------------------\u001b[0m",
      "\u001b[0;31mAttributeError\u001b[0m                            Traceback (most recent call last)",
      "\u001b[0;32m<ipython-input-10-ca52640c8624>\u001b[0m in \u001b[0;36m<module>\u001b[0;34m\u001b[0m\n\u001b[1;32m      2\u001b[0m \u001b[0;34m\u001b[0m\u001b[0m\n\u001b[1;32m      3\u001b[0m \u001b[0mmySet\u001b[0m \u001b[0;34m=\u001b[0m \u001b[0mfrozenset\u001b[0m\u001b[0;34m(\u001b[0m\u001b[0;34m[\u001b[0m\u001b[0;36m10\u001b[0m\u001b[0;34m,\u001b[0m \u001b[0;36m20\u001b[0m\u001b[0;34m,\u001b[0m \u001b[0;36m30\u001b[0m\u001b[0;34m]\u001b[0m\u001b[0;34m)\u001b[0m\u001b[0;34m\u001b[0m\u001b[0;34m\u001b[0m\u001b[0m\n\u001b[0;32m----> 4\u001b[0;31m \u001b[0mmySet\u001b[0m\u001b[0;34m.\u001b[0m\u001b[0madd\u001b[0m\u001b[0;34m(\u001b[0m\u001b[0;36m40\u001b[0m\u001b[0;34m)\u001b[0m\u001b[0;34m\u001b[0m\u001b[0;34m\u001b[0m\u001b[0m\n\u001b[0m",
      "\u001b[0;31mAttributeError\u001b[0m: 'frozenset' object has no attribute 'add'"
     ]
    }
   ],
   "source": [
    "#possiamo creare insiemi immutabili attraverso frozenset\n",
    "\n",
    "mySet = frozenset([10, 20, 30])\n",
    "mySet.add(40)"
   ]
  },
  {
   "cell_type": "code",
   "execution_count": 11,
   "id": "ecf0ef05",
   "metadata": {},
   "outputs": [
    {
     "data": {
      "text/plain": [
       "True"
      ]
     },
     "execution_count": 11,
     "metadata": {},
     "output_type": "execute_result"
    }
   ],
   "source": [
    "30 in mySet"
   ]
  },
  {
   "cell_type": "code",
   "execution_count": 12,
   "id": "db227978",
   "metadata": {},
   "outputs": [
    {
     "data": {
      "text/plain": [
       "{30, 40}"
      ]
     },
     "execution_count": 12,
     "metadata": {},
     "output_type": "execute_result"
    }
   ],
   "source": [
    "#operazioni con gli insiemi\n",
    "\n",
    "mySet1 = {10, 20, 30, 40}\n",
    "mySet2 = {30, 40, 50, 60}\n",
    "mySet1 & mySet2 #prende solo gli elementi comuni"
   ]
  },
  {
   "cell_type": "code",
   "execution_count": 13,
   "id": "8265a995",
   "metadata": {},
   "outputs": [
    {
     "data": {
      "text/plain": [
       "{10, 20, 30, 40, 50, 60}"
      ]
     },
     "execution_count": 13,
     "metadata": {},
     "output_type": "execute_result"
    }
   ],
   "source": [
    "mySet1 | mySet2 #or"
   ]
  },
  {
   "cell_type": "code",
   "execution_count": 14,
   "id": "6aff2278",
   "metadata": {},
   "outputs": [
    {
     "data": {
      "text/plain": [
       "{10, 20, 50, 60}"
      ]
     },
     "execution_count": 14,
     "metadata": {},
     "output_type": "execute_result"
    }
   ],
   "source": [
    "mySet1 ^ mySet2 #or esclusivo"
   ]
  },
  {
   "cell_type": "code",
   "execution_count": null,
   "id": "1b2a3741",
   "metadata": {},
   "outputs": [],
   "source": [
    "#statement IF\n",
    "x = int(input(\"Inserire un numero intero: \"))\n",
    "if x<0:\n",
    "    print (\"Non si accettano numeri negativi\")\n",
    "elif x==0:\n",
    "    print(\"Zero\")\n",
    "elif x==1:\n",
    "    print (\"Single\")\n",
    "else:\n",
    "    print (\"More\")"
   ]
  },
  {
   "cell_type": "code",
   "execution_count": 18,
   "id": "6e93d514",
   "metadata": {},
   "outputs": [
    {
     "name": "stdout",
     "output_type": "stream",
     "text": [
      "<=10\n"
     ]
    }
   ],
   "source": [
    "x=11\n",
    "if x < 10:\n",
    "    print(\"<10\")\n",
    "else:\n",
    "    print(\">=10\")"
   ]
  },
  {
   "cell_type": "code",
   "execution_count": 1,
   "id": "a8e35e7a",
   "metadata": {},
   "outputs": [
    {
     "name": "stdout",
     "output_type": "stream",
     "text": [
      "0\n",
      "1\n",
      "2\n"
     ]
    }
   ],
   "source": [
    "#statement While\n",
    "\n",
    "x = 0\n",
    "while x < 3:\n",
    "    print(x)\n",
    "    x += 1\n"
   ]
  },
  {
   "cell_type": "code",
   "execution_count": 2,
   "id": "9749b39b",
   "metadata": {},
   "outputs": [
    {
     "name": "stdout",
     "output_type": "stream",
     "text": [
      "inserire una stringa ciao\n",
      "ciao\n",
      "inserire una stringa sono\n",
      "sono\n",
      "inserire una stringa massimo\n",
      "massimo\n",
      "inserire una stringa stop\n"
     ]
    }
   ],
   "source": [
    "#loop infinito\n",
    "while True: #per sempre\n",
    "    x = input(\"inserire una stringa \")\n",
    "    if x == \"stop\":\n",
    "        break\n",
    "    print(x)"
   ]
  },
  {
   "cell_type": "code",
   "execution_count": 4,
   "id": "59b06830",
   "metadata": {},
   "outputs": [
    {
     "name": "stdout",
     "output_type": "stream",
     "text": [
      "inserire una stringa a\n",
      "inserire una stringa massimo\n",
      "massimo\n",
      "inserire una stringa ancora\n",
      "inserire una stringa stop\n"
     ]
    }
   ],
   "source": [
    "while True: #per sempre\n",
    "    x = input(\"inserire una stringa \")\n",
    "    if x == \"stop\":\n",
    "        break\n",
    "    if x < \"b\":\n",
    "        continue\n",
    "    print(x)"
   ]
  },
  {
   "cell_type": "code",
   "execution_count": 5,
   "id": "a20db777",
   "metadata": {},
   "outputs": [
    {
     "name": "stdout",
     "output_type": "stream",
     "text": [
      "1\n",
      "2\n",
      "3\n",
      "4\n"
     ]
    }
   ],
   "source": [
    "# statement For\n",
    "\n",
    "myList = [1, 2, 3, 4]\n",
    "for i in myList:\n",
    "    print(i)\n"
   ]
  },
  {
   "cell_type": "code",
   "execution_count": 6,
   "id": "397fcb6a",
   "metadata": {},
   "outputs": [
    {
     "name": "stdout",
     "output_type": "stream",
     "text": [
      "p\n",
      "i\n",
      "t\n",
      "h\n",
      "o\n",
      "n\n"
     ]
    }
   ],
   "source": [
    "myString = \"pithon\"\n",
    "for i in myString:\n",
    "    print(i)"
   ]
  },
  {
   "cell_type": "code",
   "execution_count": 8,
   "id": "8ec66702",
   "metadata": {},
   "outputs": [
    {
     "name": "stdout",
     "output_type": "stream",
     "text": [
      "a\n",
      "b\n",
      "c\n"
     ]
    }
   ],
   "source": [
    "myDict = {'a':1, 'b':2, 'c':3} \n",
    "for i in myDict: #ciclo che stamoa le chiavi\n",
    "    print(i)"
   ]
  },
  {
   "cell_type": "code",
   "execution_count": 9,
   "id": "73135b72",
   "metadata": {},
   "outputs": [
    {
     "name": "stdout",
     "output_type": "stream",
     "text": [
      "1\n",
      "2\n",
      "3\n"
     ]
    }
   ],
   "source": [
    "myDict = {'a':1, 'b':2, 'c':3}\n",
    "for i in myDict.values(): #ciclo che stampa i valori\n",
    "    print(i)"
   ]
  },
  {
   "cell_type": "code",
   "execution_count": 10,
   "id": "ba881599",
   "metadata": {},
   "outputs": [
    {
     "name": "stdout",
     "output_type": "stream",
     "text": [
      "('a', 1)\n",
      "('b', 2)\n",
      "('c', 3)\n"
     ]
    }
   ],
   "source": [
    "myDict = {'a':1, 'b':2, 'c':3}\n",
    "for i in myDict.items(): #ciclo che stampa la coppia chiave-valore\n",
    "    print(i)"
   ]
  },
  {
   "cell_type": "code",
   "execution_count": 11,
   "id": "c45632f7",
   "metadata": {},
   "outputs": [
    {
     "name": "stdout",
     "output_type": "stream",
     "text": [
      "10\n",
      "12\n",
      "14\n"
     ]
    }
   ],
   "source": [
    "#funzione Range\n",
    "# range(start, stop, step) stop unico obbligatorio\n",
    "\n",
    "for i in range(10, 16, 2):\n",
    "    print(i)\n"
   ]
  },
  {
   "cell_type": "code",
   "execution_count": 20,
   "id": "a75f4f54",
   "metadata": {},
   "outputs": [
    {
     "data": {
      "text/plain": [
       "[10, 12, 14, 16, 18, 20, 22, 24]"
      ]
     },
     "execution_count": 20,
     "metadata": {},
     "output_type": "execute_result"
    }
   ],
   "source": [
    "#scrivi un programma che crea una lista che contiene i numeri\n",
    "#interi pari tra 10 e 25 usando for e un range fino a 30 che \n",
    "#escluda i numeri compresi tra 25 e 30\n",
    "\n",
    "l = []\n",
    "for x in range(10, 30):\n",
    "    if(x %2 == 0) and (x < 25):\n",
    "        l.append(x)\n",
    "\n",
    "l"
   ]
  },
  {
   "cell_type": "code",
   "execution_count": 27,
   "id": "f72c70f0",
   "metadata": {},
   "outputs": [
    {
     "data": {
      "text/plain": [
       "[1, 9, 25, 49, 81]"
      ]
     },
     "execution_count": 27,
     "metadata": {},
     "output_type": "execute_result"
    }
   ],
   "source": [
    "# List Comprehension: meccanismo che a partire da una lista ne \n",
    "#produce un'altra partendo dalla lista d'origine\n",
    "\n",
    "numbers = [1,2,3,4,5,6,7,8,9]\n",
    "newList = [n * n for n in numbers if n % 2 == 1]\n",
    "newList\n"
   ]
  },
  {
   "cell_type": "code",
   "execution_count": 33,
   "id": "e854d022",
   "metadata": {},
   "outputs": [
    {
     "data": {
      "text/plain": [
       "[10, 12, 14, 16, 18, 20, 22, 24]"
      ]
     },
     "execution_count": 33,
     "metadata": {},
     "output_type": "execute_result"
    }
   ],
   "source": [
    "l = [x for x in range(10,30) if x%2==0 and x<25]\n",
    "l\n"
   ]
  },
  {
   "cell_type": "code",
   "execution_count": 36,
   "id": "b6d1c2be",
   "metadata": {},
   "outputs": [
    {
     "data": {
      "text/plain": [
       "{'p': 112, 'y': 121, 't': 116, 'h': 104, 'o': 111, 'n': 110}"
      ]
     },
     "execution_count": 36,
     "metadata": {},
     "output_type": "execute_result"
    }
   ],
   "source": [
    "# Dict Comprehension\n",
    "\n",
    "a = 'python'\n",
    "b = {k: ord(k) for k in a}\n",
    "b\n"
   ]
  },
  {
   "cell_type": "code",
   "execution_count": 40,
   "id": "b367c8d8",
   "metadata": {},
   "outputs": [
    {
     "data": {
      "text/plain": [
       "{'d', 'e', 'i', 'n', 'o', 'p'}"
      ]
     },
     "execution_count": 40,
     "metadata": {},
     "output_type": "execute_result"
    }
   ],
   "source": [
    "# Set Comprehension \n",
    "\n",
    "a = 'doppione'\n",
    "c = {k for k in a}\n",
    "c\n"
   ]
  },
  {
   "cell_type": "code",
   "execution_count": 4,
   "id": "2c19928c",
   "metadata": {},
   "outputs": [],
   "source": [
    "# Funzioni\n",
    "\n",
    "def myFunc(a, b, c, d):\n",
    "    print(a, b, c, d)\n"
   ]
  },
  {
   "cell_type": "code",
   "execution_count": 11,
   "id": "4649ab7f",
   "metadata": {},
   "outputs": [],
   "source": [
    "def myFunc(x):\n",
    "    x=10\n",
    "    print(x)\n"
   ]
  },
  {
   "cell_type": "code",
   "execution_count": 13,
   "id": "9c32d5b4",
   "metadata": {},
   "outputs": [
    {
     "name": "stdout",
     "output_type": "stream",
     "text": [
      "10\n"
     ]
    }
   ],
   "source": [
    "y = 20\n",
    "myFunc(y)"
   ]
  },
  {
   "cell_type": "code",
   "execution_count": 14,
   "id": "f4de6b71",
   "metadata": {},
   "outputs": [],
   "source": [
    "def listadif(l1, l2=[1,2,3,4,5]):\n",
    "    l = []\n",
    "    for x in l1:\n",
    "        if not x in l2:\n",
    "            l.append(x)\n",
    "    return l\n",
    "\n",
    "                "
   ]
  },
  {
   "cell_type": "code",
   "execution_count": 15,
   "id": "f522cfb4",
   "metadata": {},
   "outputs": [
    {
     "data": {
      "text/plain": [
       "[1, 6, 7]"
      ]
     },
     "execution_count": 15,
     "metadata": {},
     "output_type": "execute_result"
    }
   ],
   "source": [
    "a = [1,3,6,7]\n",
    "b = [3,10]\n",
    "listadif(a,b)"
   ]
  },
  {
   "cell_type": "code",
   "execution_count": 16,
   "id": "4ac7b6e7",
   "metadata": {},
   "outputs": [
    {
     "data": {
      "text/plain": [
       "[6, 7]"
      ]
     },
     "execution_count": 16,
     "metadata": {},
     "output_type": "execute_result"
    }
   ],
   "source": [
    "listadif(a)"
   ]
  },
  {
   "cell_type": "code",
   "execution_count": null,
   "id": "07c4fe68",
   "metadata": {},
   "outputs": [],
   "source": []
  },
  {
   "cell_type": "code",
   "execution_count": null,
   "id": "67ce9e9d",
   "metadata": {},
   "outputs": [],
   "source": []
  },
  {
   "cell_type": "code",
   "execution_count": null,
   "id": "06c6053e",
   "metadata": {},
   "outputs": [],
   "source": []
  },
  {
   "cell_type": "code",
   "execution_count": null,
   "id": "c5bf5ea1",
   "metadata": {},
   "outputs": [],
   "source": []
  },
  {
   "cell_type": "code",
   "execution_count": null,
   "id": "20bb4c2d",
   "metadata": {},
   "outputs": [],
   "source": []
  },
  {
   "cell_type": "code",
   "execution_count": null,
   "id": "10380e96",
   "metadata": {},
   "outputs": [],
   "source": []
  },
  {
   "cell_type": "code",
   "execution_count": null,
   "id": "9011f2a3",
   "metadata": {},
   "outputs": [],
   "source": []
  },
  {
   "cell_type": "code",
   "execution_count": null,
   "id": "d5441651",
   "metadata": {},
   "outputs": [],
   "source": []
  },
  {
   "cell_type": "code",
   "execution_count": null,
   "id": "491dca92",
   "metadata": {},
   "outputs": [],
   "source": []
  }
 ],
 "metadata": {
  "kernelspec": {
   "display_name": "Python 3",
   "language": "python",
   "name": "python3"
  },
  "language_info": {
   "codemirror_mode": {
    "name": "ipython",
    "version": 3
   },
   "file_extension": ".py",
   "mimetype": "text/x-python",
   "name": "python",
   "nbconvert_exporter": "python",
   "pygments_lexer": "ipython3",
   "version": "3.8.8"
  }
 },
 "nbformat": 4,
 "nbformat_minor": 5
}
