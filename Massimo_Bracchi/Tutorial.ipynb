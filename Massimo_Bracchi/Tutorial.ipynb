{
 "cells": [
  {
   "cell_type": "code",
   "execution_count": null,
   "id": "37372013",
   "metadata": {},
   "outputs": [],
   "source": [
    "#Numbers\n",
    "\n",
    "a = 2 + 2 #somma\n",
    "b = 5 - 2 #sottrazione\n",
    "c = 3 * 4 #prodotto\n",
    "d = 6 / 2 #divisione\n",
    "e = 2 ** 3 #elevamento a potenza\n",
    "print (a, b, c, d, e)"
   ]
  },
  {
   "cell_type": "code",
   "execution_count": null,
   "id": "b0c19bb1",
   "metadata": {},
   "outputs": [],
   "source": [
    "#Strings\n",
    "word = \"Python\"\n",
    "x = word[0] #la prima lettera della parola è in posizione 0\n",
    "y = word[-1] #l'ultima lettera è in posizione -1\n",
    "print (word, x, y)\n",
    "xy = \"sto leggendo il tutorial\"\n",
    "z = xy[0:3] #comando che prende le lettere dalla posizione 0 alla 2\n",
    "z_1 = xy[-8:] #comando che prende le ultime 8 lettere\n",
    "z_2 = xy[0:3] + xy[-4:-1] #concatenazione tra stringhe\n",
    "print (z, z_1, z_2)\n",
    "len(xy) #funzione che restituisce la lunghezza della stringa"
   ]
  },
  {
   "cell_type": "code",
   "execution_count": null,
   "id": "222d8efc",
   "metadata": {},
   "outputs": [],
   "source": [
    "#List\n",
    "cubes = [1, 8, 27, 65]\n",
    "cubes[3] = 64 #a differenza delle stringhe posso cambiarne il \n",
    "#contenuto"
   ]
  },
  {
   "cell_type": "code",
   "execution_count": null,
   "id": "85b5f055",
   "metadata": {},
   "outputs": [],
   "source": [
    "cubes"
   ]
  },
  {
   "cell_type": "code",
   "execution_count": null,
   "id": "fe3b836f",
   "metadata": {},
   "outputs": [],
   "source": [
    "cubes.append(125)\n",
    "#funzione che aggiunge un valore nell'ultima posizione"
   ]
  },
  {
   "cell_type": "code",
   "execution_count": null,
   "id": "acfad840",
   "metadata": {},
   "outputs": [],
   "source": [
    "cubes"
   ]
  },
  {
   "cell_type": "code",
   "execution_count": null,
   "id": "abf027f2",
   "metadata": {
    "scrolled": true
   },
   "outputs": [],
   "source": [
    "len(cubes) #la funzione len si applica anche alle liste"
   ]
  },
  {
   "cell_type": "code",
   "execution_count": 3,
   "id": "1b2a3741",
   "metadata": {},
   "outputs": [
    {
     "name": "stdout",
     "output_type": "stream",
     "text": [
      "Inserire un numero intero: 5\n",
      "More\n"
     ]
    }
   ],
   "source": [
    "#ciclo IF\n",
    "x = int(input(\"Inserire un numero intero: \"))\n",
    "if x<0:\n",
    "    print (\"Non si accettano numeri negativi\")\n",
    "elif x==0:\n",
    "    print(\"Zero\")\n",
    "elif x==1:\n",
    "    print (\"Single\")\n",
    "else:\n",
    "    print (\"More\")"
   ]
  },
  {
   "cell_type": "code",
   "execution_count": 6,
   "id": "ec317beb",
   "metadata": {},
   "outputs": [
    {
     "name": "stdout",
     "output_type": "stream",
     "text": [
      "0,1,1,2,3,5,8,13,21,34,55,89,144,233,377,610,987,"
     ]
    }
   ],
   "source": [
    "#prova della serie di Fibomacci\n",
    "a, b = 0, 1\n",
    "while a < 1000:\n",
    "    print (a, end=',')\n",
    "    a, b = b, a+b"
   ]
  },
  {
   "cell_type": "code",
   "execution_count": 10,
   "id": "58d79e8b",
   "metadata": {},
   "outputs": [
    {
     "name": "stdout",
     "output_type": "stream",
     "text": [
      "gatto 5\n",
      "elefante 8\n",
      "pappagallo 10\n"
     ]
    }
   ],
   "source": [
    "#ciclo FOR\n",
    "words = ['gatto', 'elefante', 'pappagallo']\n",
    "for w in words:\n",
    "    print (w, len(w))"
   ]
  },
  {
   "cell_type": "code",
   "execution_count": 2,
   "id": "c45632f7",
   "metadata": {},
   "outputs": [
    {
     "name": "stdout",
     "output_type": "stream",
     "text": [
      "0\n",
      "1\n",
      "2\n",
      "3\n",
      "4\n"
     ]
    }
   ],
   "source": [
    "#funzione range\n",
    "for i in range(5):\n",
    "    print (i)"
   ]
  },
  {
   "cell_type": "code",
   "execution_count": null,
   "id": "a75f4f54",
   "metadata": {},
   "outputs": [],
   "source": []
  }
 ],
 "metadata": {
  "kernelspec": {
   "display_name": "Python 3",
   "language": "python",
   "name": "python3"
  },
  "language_info": {
   "codemirror_mode": {
    "name": "ipython",
    "version": 3
   },
   "file_extension": ".py",
   "mimetype": "text/x-python",
   "name": "python",
   "nbconvert_exporter": "python",
   "pygments_lexer": "ipython3",
   "version": "3.8.8"
  }
 },
 "nbformat": 4,
 "nbformat_minor": 5
}
