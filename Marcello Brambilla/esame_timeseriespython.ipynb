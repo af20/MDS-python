{
 "cells": [
  {
   "cell_type": "markdown",
   "id": "a10c05f7",
   "metadata": {},
   "source": [
    "## IMPORT LIBRARIES"
   ]
  },
  {
   "cell_type": "code",
   "execution_count": 1,
   "id": "ce53f08a",
   "metadata": {},
   "outputs": [],
   "source": [
    "from statsmodels.graphics.tsaplots import plot_pacf\n",
    "from statsmodels.graphics.tsaplots import plot_acf\n",
    "from statsmodels.tsa.arima_process import ArmaProcess\n",
    "from statsmodels.stats.diagnostic import acorr_ljungbox\n",
    "from statsmodels.tsa.statespace.sarimax import SARIMAX\n",
    "from statsmodels.tsa.stattools import adfuller\n",
    "from statsmodels.tsa.stattools import pacf\n",
    "from statsmodels.tsa.stattools import acf\n",
    "from statsmodels.tsa.arima.model import ARIMA\n",
    "import statistics\n",
    "from tqdm import tqdm_notebook\n",
    "import matplotlib.pyplot as plt\n",
    "import numpy as np\n",
    "import pandas as pd\n",
    "import warnings\n",
    "warnings.filterwarnings('ignore')\n",
    "%matplotlib inline\n",
    "import nbimporter"
   ]
  },
  {
   "cell_type": "markdown",
   "id": "d4e91f21",
   "metadata": {},
   "source": [
    "## Import Dataset"
   ]
  },
  {
   "cell_type": "code",
   "execution_count": 2,
   "id": "bafb93d3",
   "metadata": {},
   "outputs": [
    {
     "data": {
      "text/html": [
       "<div>\n",
       "<style scoped>\n",
       "    .dataframe tbody tr th:only-of-type {\n",
       "        vertical-align: middle;\n",
       "    }\n",
       "\n",
       "    .dataframe tbody tr th {\n",
       "        vertical-align: top;\n",
       "    }\n",
       "\n",
       "    .dataframe thead th {\n",
       "        text-align: right;\n",
       "    }\n",
       "</style>\n",
       "<table border=\"1\" class=\"dataframe\">\n",
       "  <thead>\n",
       "    <tr style=\"text-align: right;\">\n",
       "      <th></th>\n",
       "      <th>sasdate</th>\n",
       "      <th>RPI</th>\n",
       "      <th>W875RX1</th>\n",
       "      <th>DPCERA3M086SBEA</th>\n",
       "      <th>CMRMTSPLx</th>\n",
       "      <th>RETAILx</th>\n",
       "      <th>INDPRO</th>\n",
       "      <th>IPFPNSS</th>\n",
       "      <th>IPFINAL</th>\n",
       "      <th>IPCONGD</th>\n",
       "      <th>...</th>\n",
       "      <th>DSERRG3M086SBEA</th>\n",
       "      <th>CES0600000008</th>\n",
       "      <th>CES2000000008</th>\n",
       "      <th>CES3000000008</th>\n",
       "      <th>UMCSENTx</th>\n",
       "      <th>MZMSL</th>\n",
       "      <th>DTCOLNVHFNM</th>\n",
       "      <th>DTCTHFNM</th>\n",
       "      <th>INVEST</th>\n",
       "      <th>VXOCLSx</th>\n",
       "    </tr>\n",
       "  </thead>\n",
       "  <tbody>\n",
       "    <tr>\n",
       "      <th>0</th>\n",
       "      <td>Transform:</td>\n",
       "      <td>5.000</td>\n",
       "      <td>5.0</td>\n",
       "      <td>5.000</td>\n",
       "      <td>5.000000e+00</td>\n",
       "      <td>5.00000</td>\n",
       "      <td>5.0000</td>\n",
       "      <td>5.0000</td>\n",
       "      <td>5.0000</td>\n",
       "      <td>5.0000</td>\n",
       "      <td>...</td>\n",
       "      <td>6.000</td>\n",
       "      <td>6.00</td>\n",
       "      <td>6.00</td>\n",
       "      <td>6.00</td>\n",
       "      <td>2.0</td>\n",
       "      <td>6.0</td>\n",
       "      <td>6.00</td>\n",
       "      <td>6.00</td>\n",
       "      <td>6.0000</td>\n",
       "      <td>1.0000</td>\n",
       "    </tr>\n",
       "    <tr>\n",
       "      <th>1</th>\n",
       "      <td>1/1/1959</td>\n",
       "      <td>2437.296</td>\n",
       "      <td>2288.8</td>\n",
       "      <td>17.302</td>\n",
       "      <td>2.922588e+05</td>\n",
       "      <td>18235.77392</td>\n",
       "      <td>22.6250</td>\n",
       "      <td>23.4581</td>\n",
       "      <td>22.1904</td>\n",
       "      <td>32.4078</td>\n",
       "      <td>...</td>\n",
       "      <td>11.358</td>\n",
       "      <td>2.13</td>\n",
       "      <td>2.45</td>\n",
       "      <td>2.04</td>\n",
       "      <td>NaN</td>\n",
       "      <td>274.9</td>\n",
       "      <td>6476.00</td>\n",
       "      <td>12298.00</td>\n",
       "      <td>84.2043</td>\n",
       "      <td>NaN</td>\n",
       "    </tr>\n",
       "    <tr>\n",
       "      <th>2</th>\n",
       "      <td>2/1/1959</td>\n",
       "      <td>2446.902</td>\n",
       "      <td>2297.0</td>\n",
       "      <td>17.482</td>\n",
       "      <td>2.944295e+05</td>\n",
       "      <td>18369.56308</td>\n",
       "      <td>23.0681</td>\n",
       "      <td>23.7747</td>\n",
       "      <td>22.3827</td>\n",
       "      <td>32.6455</td>\n",
       "      <td>...</td>\n",
       "      <td>11.375</td>\n",
       "      <td>2.14</td>\n",
       "      <td>2.46</td>\n",
       "      <td>2.05</td>\n",
       "      <td>NaN</td>\n",
       "      <td>276.0</td>\n",
       "      <td>6476.00</td>\n",
       "      <td>12298.00</td>\n",
       "      <td>83.5280</td>\n",
       "      <td>NaN</td>\n",
       "    </tr>\n",
       "    <tr>\n",
       "      <th>3</th>\n",
       "      <td>3/1/1959</td>\n",
       "      <td>2462.689</td>\n",
       "      <td>2314.0</td>\n",
       "      <td>17.647</td>\n",
       "      <td>2.934254e+05</td>\n",
       "      <td>18523.05762</td>\n",
       "      <td>23.4004</td>\n",
       "      <td>23.9186</td>\n",
       "      <td>22.4925</td>\n",
       "      <td>32.6455</td>\n",
       "      <td>...</td>\n",
       "      <td>11.395</td>\n",
       "      <td>2.15</td>\n",
       "      <td>2.45</td>\n",
       "      <td>2.07</td>\n",
       "      <td>NaN</td>\n",
       "      <td>277.4</td>\n",
       "      <td>6508.00</td>\n",
       "      <td>12349.00</td>\n",
       "      <td>81.6405</td>\n",
       "      <td>NaN</td>\n",
       "    </tr>\n",
       "    <tr>\n",
       "      <th>4</th>\n",
       "      <td>4/1/1959</td>\n",
       "      <td>2478.744</td>\n",
       "      <td>2330.3</td>\n",
       "      <td>17.584</td>\n",
       "      <td>2.993317e+05</td>\n",
       "      <td>18534.46600</td>\n",
       "      <td>23.8989</td>\n",
       "      <td>24.2641</td>\n",
       "      <td>22.8221</td>\n",
       "      <td>33.1606</td>\n",
       "      <td>...</td>\n",
       "      <td>11.436</td>\n",
       "      <td>2.16</td>\n",
       "      <td>2.47</td>\n",
       "      <td>2.08</td>\n",
       "      <td>NaN</td>\n",
       "      <td>278.1</td>\n",
       "      <td>6620.00</td>\n",
       "      <td>12484.00</td>\n",
       "      <td>81.8099</td>\n",
       "      <td>NaN</td>\n",
       "    </tr>\n",
       "    <tr>\n",
       "      <th>...</th>\n",
       "      <td>...</td>\n",
       "      <td>...</td>\n",
       "      <td>...</td>\n",
       "      <td>...</td>\n",
       "      <td>...</td>\n",
       "      <td>...</td>\n",
       "      <td>...</td>\n",
       "      <td>...</td>\n",
       "      <td>...</td>\n",
       "      <td>...</td>\n",
       "      <td>...</td>\n",
       "      <td>...</td>\n",
       "      <td>...</td>\n",
       "      <td>...</td>\n",
       "      <td>...</td>\n",
       "      <td>...</td>\n",
       "      <td>...</td>\n",
       "      <td>...</td>\n",
       "      <td>...</td>\n",
       "      <td>...</td>\n",
       "      <td>...</td>\n",
       "    </tr>\n",
       "    <tr>\n",
       "      <th>721</th>\n",
       "      <td>1/1/2019</td>\n",
       "      <td>16486.710</td>\n",
       "      <td>13622.3</td>\n",
       "      <td>118.513</td>\n",
       "      <td>1.517735e+06</td>\n",
       "      <td>507204.00000</td>\n",
       "      <td>110.0707</td>\n",
       "      <td>105.0866</td>\n",
       "      <td>103.6056</td>\n",
       "      <td>105.3838</td>\n",
       "      <td>...</td>\n",
       "      <td>116.279</td>\n",
       "      <td>24.41</td>\n",
       "      <td>28.15</td>\n",
       "      <td>21.85</td>\n",
       "      <td>91.2</td>\n",
       "      <td>15776.5</td>\n",
       "      <td>312528.96</td>\n",
       "      <td>734171.07</td>\n",
       "      <td>3533.5509</td>\n",
       "      <td>20.3971</td>\n",
       "    </tr>\n",
       "    <tr>\n",
       "      <th>722</th>\n",
       "      <td>2/1/2019</td>\n",
       "      <td>16510.294</td>\n",
       "      <td>13632.1</td>\n",
       "      <td>118.395</td>\n",
       "      <td>1.514035e+06</td>\n",
       "      <td>505817.00000</td>\n",
       "      <td>109.5742</td>\n",
       "      <td>104.7477</td>\n",
       "      <td>103.4804</td>\n",
       "      <td>105.6151</td>\n",
       "      <td>...</td>\n",
       "      <td>116.432</td>\n",
       "      <td>24.41</td>\n",
       "      <td>28.19</td>\n",
       "      <td>21.92</td>\n",
       "      <td>93.8</td>\n",
       "      <td>15790.5</td>\n",
       "      <td>311681.04</td>\n",
       "      <td>729260.46</td>\n",
       "      <td>3534.4859</td>\n",
       "      <td>15.1771</td>\n",
       "    </tr>\n",
       "    <tr>\n",
       "      <th>723</th>\n",
       "      <td>3/1/2019</td>\n",
       "      <td>16496.095</td>\n",
       "      <td>13605.4</td>\n",
       "      <td>119.465</td>\n",
       "      <td>1.523251e+06</td>\n",
       "      <td>514329.00000</td>\n",
       "      <td>109.7431</td>\n",
       "      <td>105.1275</td>\n",
       "      <td>103.9854</td>\n",
       "      <td>106.0361</td>\n",
       "      <td>...</td>\n",
       "      <td>116.656</td>\n",
       "      <td>24.52</td>\n",
       "      <td>28.30</td>\n",
       "      <td>21.94</td>\n",
       "      <td>98.4</td>\n",
       "      <td>15827.6</td>\n",
       "      <td>312621.30</td>\n",
       "      <td>729109.72</td>\n",
       "      <td>3557.8750</td>\n",
       "      <td>14.6056</td>\n",
       "    </tr>\n",
       "    <tr>\n",
       "      <th>724</th>\n",
       "      <td>4/1/2019</td>\n",
       "      <td>16529.500</td>\n",
       "      <td>13631.8</td>\n",
       "      <td>119.431</td>\n",
       "      <td>NaN</td>\n",
       "      <td>513356.00000</td>\n",
       "      <td>109.1818</td>\n",
       "      <td>103.9723</td>\n",
       "      <td>102.6655</td>\n",
       "      <td>104.8006</td>\n",
       "      <td>...</td>\n",
       "      <td>117.092</td>\n",
       "      <td>24.60</td>\n",
       "      <td>28.41</td>\n",
       "      <td>21.97</td>\n",
       "      <td>97.2</td>\n",
       "      <td>15874.5</td>\n",
       "      <td>NaN</td>\n",
       "      <td>NaN</td>\n",
       "      <td>3607.3773</td>\n",
       "      <td>12.3282</td>\n",
       "    </tr>\n",
       "    <tr>\n",
       "      <th>725</th>\n",
       "      <td>NaN</td>\n",
       "      <td>NaN</td>\n",
       "      <td>NaN</td>\n",
       "      <td>NaN</td>\n",
       "      <td>NaN</td>\n",
       "      <td>NaN</td>\n",
       "      <td>NaN</td>\n",
       "      <td>NaN</td>\n",
       "      <td>NaN</td>\n",
       "      <td>NaN</td>\n",
       "      <td>...</td>\n",
       "      <td>NaN</td>\n",
       "      <td>NaN</td>\n",
       "      <td>NaN</td>\n",
       "      <td>NaN</td>\n",
       "      <td>NaN</td>\n",
       "      <td>NaN</td>\n",
       "      <td>NaN</td>\n",
       "      <td>NaN</td>\n",
       "      <td>NaN</td>\n",
       "      <td>NaN</td>\n",
       "    </tr>\n",
       "  </tbody>\n",
       "</table>\n",
       "<p>726 rows × 129 columns</p>\n",
       "</div>"
      ],
      "text/plain": [
       "        sasdate        RPI  W875RX1  DPCERA3M086SBEA     CMRMTSPLx  \\\n",
       "0    Transform:      5.000      5.0            5.000  5.000000e+00   \n",
       "1      1/1/1959   2437.296   2288.8           17.302  2.922588e+05   \n",
       "2      2/1/1959   2446.902   2297.0           17.482  2.944295e+05   \n",
       "3      3/1/1959   2462.689   2314.0           17.647  2.934254e+05   \n",
       "4      4/1/1959   2478.744   2330.3           17.584  2.993317e+05   \n",
       "..          ...        ...      ...              ...           ...   \n",
       "721    1/1/2019  16486.710  13622.3          118.513  1.517735e+06   \n",
       "722    2/1/2019  16510.294  13632.1          118.395  1.514035e+06   \n",
       "723    3/1/2019  16496.095  13605.4          119.465  1.523251e+06   \n",
       "724    4/1/2019  16529.500  13631.8          119.431           NaN   \n",
       "725         NaN        NaN      NaN              NaN           NaN   \n",
       "\n",
       "          RETAILx    INDPRO   IPFPNSS   IPFINAL   IPCONGD  ...  \\\n",
       "0         5.00000    5.0000    5.0000    5.0000    5.0000  ...   \n",
       "1     18235.77392   22.6250   23.4581   22.1904   32.4078  ...   \n",
       "2     18369.56308   23.0681   23.7747   22.3827   32.6455  ...   \n",
       "3     18523.05762   23.4004   23.9186   22.4925   32.6455  ...   \n",
       "4     18534.46600   23.8989   24.2641   22.8221   33.1606  ...   \n",
       "..            ...       ...       ...       ...       ...  ...   \n",
       "721  507204.00000  110.0707  105.0866  103.6056  105.3838  ...   \n",
       "722  505817.00000  109.5742  104.7477  103.4804  105.6151  ...   \n",
       "723  514329.00000  109.7431  105.1275  103.9854  106.0361  ...   \n",
       "724  513356.00000  109.1818  103.9723  102.6655  104.8006  ...   \n",
       "725           NaN       NaN       NaN       NaN       NaN  ...   \n",
       "\n",
       "     DSERRG3M086SBEA  CES0600000008  CES2000000008  CES3000000008  UMCSENTx  \\\n",
       "0              6.000           6.00           6.00           6.00       2.0   \n",
       "1             11.358           2.13           2.45           2.04       NaN   \n",
       "2             11.375           2.14           2.46           2.05       NaN   \n",
       "3             11.395           2.15           2.45           2.07       NaN   \n",
       "4             11.436           2.16           2.47           2.08       NaN   \n",
       "..               ...            ...            ...            ...       ...   \n",
       "721          116.279          24.41          28.15          21.85      91.2   \n",
       "722          116.432          24.41          28.19          21.92      93.8   \n",
       "723          116.656          24.52          28.30          21.94      98.4   \n",
       "724          117.092          24.60          28.41          21.97      97.2   \n",
       "725              NaN            NaN            NaN            NaN       NaN   \n",
       "\n",
       "       MZMSL  DTCOLNVHFNM   DTCTHFNM     INVEST  VXOCLSx  \n",
       "0        6.0         6.00       6.00     6.0000   1.0000  \n",
       "1      274.9      6476.00   12298.00    84.2043      NaN  \n",
       "2      276.0      6476.00   12298.00    83.5280      NaN  \n",
       "3      277.4      6508.00   12349.00    81.6405      NaN  \n",
       "4      278.1      6620.00   12484.00    81.8099      NaN  \n",
       "..       ...          ...        ...        ...      ...  \n",
       "721  15776.5    312528.96  734171.07  3533.5509  20.3971  \n",
       "722  15790.5    311681.04  729260.46  3534.4859  15.1771  \n",
       "723  15827.6    312621.30  729109.72  3557.8750  14.6056  \n",
       "724  15874.5          NaN        NaN  3607.3773  12.3282  \n",
       "725      NaN          NaN        NaN        NaN      NaN  \n",
       "\n",
       "[726 rows x 129 columns]"
      ]
     },
     "execution_count": 2,
     "metadata": {},
     "output_type": "execute_result"
    }
   ],
   "source": [
    "df = pd.read_csv('OneDrive/Documenti/GitHub/MDS-python/Marcello Brambilla/2019-05.csv')\n",
    "df"
   ]
  },
  {
   "cell_type": "code",
   "execution_count": 3,
   "id": "de5e926b",
   "metadata": {},
   "outputs": [
    {
     "data": {
      "text/plain": [
       "sasdate              6/1/1996\n",
       "RPI                  9139.896\n",
       "W875RX1                7859.1\n",
       "DPCERA3M086SBEA        64.889\n",
       "CMRMTSPLx          916487.771\n",
       "                      ...    \n",
       "MZMSL                  3097.0\n",
       "DTCOLNVHFNM          86333.37\n",
       "DTCTHFNM            303932.73\n",
       "INVEST               899.6083\n",
       "VXOCLSx               17.6216\n",
       "Name: 450, Length: 129, dtype: object"
      ]
     },
     "execution_count": 3,
     "metadata": {},
     "output_type": "execute_result"
    }
   ],
   "source": [
    "df.iloc[450]"
   ]
  },
  {
   "cell_type": "markdown",
   "id": "afd7377a",
   "metadata": {},
   "source": [
    "## Transformations"
   ]
  },
  {
   "cell_type": "code",
   "execution_count": 4,
   "id": "0a24ff5e",
   "metadata": {},
   "outputs": [],
   "source": [
    "from datetime import datetime, timedelta"
   ]
  },
  {
   "cell_type": "code",
   "execution_count": 5,
   "id": "e8d67442",
   "metadata": {},
   "outputs": [],
   "source": [
    "df_NDG = df[['sasdate','IPFPNSS']]\n",
    "df_NDG.dropna(inplace=True)\n",
    "df_NDG.drop(index=0,inplace=True)\n",
    "df_NDG.reset_index(inplace=True, drop=True)\n",
    "df_NDG['sasdate']= pd.to_datetime(df_NDG.sasdate)"
   ]
  },
  {
   "cell_type": "code",
   "execution_count": 6,
   "id": "09720b71",
   "metadata": {},
   "outputs": [],
   "source": [
    "df_NDG['IPFPNSS'] = np.log(df_NDG['IPFPNSS'])"
   ]
  },
  {
   "cell_type": "code",
   "execution_count": 7,
   "id": "d6d89d7e",
   "metadata": {},
   "outputs": [
    {
     "data": {
      "text/plain": [
       "<AxesSubplot:xlabel='sasdate'>"
      ]
     },
     "execution_count": 7,
     "metadata": {},
     "output_type": "execute_result"
    },
    {
     "data": {
      "image/png": "[encoded data removed]",
      "text/plain": [
       "<Figure size 432x288 with 1 Axes>"
      ]
     },
     "metadata": {
      "needs_background": "light"
     },
     "output_type": "display_data"
    }
   ],
   "source": [
    "df_NDG.plot(x='sasdate', y= 'IPFPNSS')"
   ]
  },
  {
   "cell_type": "markdown",
   "id": "374c3800",
   "metadata": {},
   "source": [
    "### Dividere in ' training set' e ' test set'"
   ]
  },
  {
   "cell_type": "code",
   "execution_count": 8,
   "id": "d6c69002",
   "metadata": {},
   "outputs": [],
   "source": [
    "df_NDG = df_NDG['IPFPNSS'][300:450]"
   ]
  },
  {
   "cell_type": "code",
   "execution_count": 9,
   "id": "6751d5a3",
   "metadata": {},
   "outputs": [],
   "source": [
    "df_NDG_train = df_NDG[:120]"
   ]
  },
  {
   "cell_type": "code",
   "execution_count": 10,
   "id": "cfc3d206",
   "metadata": {},
   "outputs": [],
   "source": [
    "df_NDG_test = df_NDG[120:150]"
   ]
  },
  {
   "cell_type": "markdown",
   "id": "7dff7390",
   "metadata": {},
   "source": [
    "## ACF e PACF"
   ]
  },
  {
   "cell_type": "code",
   "execution_count": 11,
   "id": "a2da1ae7",
   "metadata": {
    "scrolled": true
   },
   "outputs": [
    {
     "data": {
      "image/png": "[encoded data removed]",
      "text/plain": [
       "<Figure size 432x288 with 1 Axes>"
      ]
     },
     "execution_count": 11,
     "metadata": {},
     "output_type": "execute_result"
    },
    {
     "data": {
      "image/png": "[encoded data removed]",
      "text/plain": [
       "<Figure size 432x288 with 1 Axes>"
      ]
     },
     "metadata": {
      "needs_background": "light"
     },
     "output_type": "display_data"
    }
   ],
   "source": [
    "plot_acf(df_NDG_train, zero=False)"
   ]
  },
  {
   "cell_type": "code",
   "execution_count": 12,
   "id": "f32c337c",
   "metadata": {},
   "outputs": [
    {
     "data": {
      "image/png": "[encoded data removed]",
      "text/plain": [
       "<Figure size 432x288 with 1 Axes>"
      ]
     },
     "execution_count": 12,
     "metadata": {},
     "output_type": "execute_result"
    },
    {
     "data": {
      "image/png": "[encoded data removed]",
      "text/plain": [
       "<Figure size 432x288 with 1 Axes>"
      ]
     },
     "metadata": {
      "needs_background": "light"
     },
     "output_type": "display_data"
    }
   ],
   "source": [
    "plot_pacf(df_NDG_train, zero = False)"
   ]
  },
  {
   "cell_type": "markdown",
   "id": "b0426079",
   "metadata": {},
   "source": [
    "## ADF"
   ]
  },
  {
   "cell_type": "code",
   "execution_count": 13,
   "id": "90aa1e13",
   "metadata": {},
   "outputs": [
    {
     "data": {
      "text/plain": [
       "(-0.9594317606851474,\n",
       " 0.7677716957079979,\n",
       " 3,\n",
       " 116,\n",
       " {'1%': -3.4880216384691867,\n",
       "  '5%': -2.8867966864160075,\n",
       "  '10%': -2.5802408234244947},\n",
       " -791.4055809473608)"
      ]
     },
     "execution_count": 13,
     "metadata": {},
     "output_type": "execute_result"
    }
   ],
   "source": [
    "adfuller(df_NDG_train)"
   ]
  },
  {
   "cell_type": "markdown",
   "id": "c6125d5a",
   "metadata": {},
   "source": [
    "## 6 Stima p e q"
   ]
  },
  {
   "cell_type": "markdown",
   "id": "f8498e1c",
   "metadata": {},
   "source": [
    "#### Serie in differenza prima"
   ]
  },
  {
   "cell_type": "code",
   "execution_count": 14,
   "id": "ee4710cb",
   "metadata": {},
   "outputs": [],
   "source": [
    "pmax = 4\n",
    "qmax = 4\n",
    "aic = np.empty((pmax+1,qmax+1))\n",
    "aic[:] = np.NaN\n",
    "bic = aic\n",
    "for p in range(0,pmax+1):\n",
    "    for q in range(0,qmax+1):\n",
    "        a = ARIMA(df_NDG_train, order=(p,1,q))\n",
    "        mdl = a.fit()\n",
    "        aic[p,q] = mdl.aic\n",
    "        bic[p,q] = mdl.bic"
   ]
  },
  {
   "cell_type": "code",
   "execution_count": 15,
   "id": "ef27ad89",
   "metadata": {},
   "outputs": [
    {
     "data": {
      "text/plain": [
       "[3, 0]"
      ]
     },
     "execution_count": 15,
     "metadata": {},
     "output_type": "execute_result"
    }
   ],
   "source": [
    "aic_min = list(np.unravel_index(aic.argmin(), aic.shape))\n",
    "aic_min"
   ]
  },
  {
   "cell_type": "code",
   "execution_count": 16,
   "id": "63259b05",
   "metadata": {},
   "outputs": [
    {
     "data": {
      "text/plain": [
       "[3, 0]"
      ]
     },
     "execution_count": 16,
     "metadata": {},
     "output_type": "execute_result"
    }
   ],
   "source": [
    "bic_min = list(np.unravel_index(bic.argmin(), bic.shape))\n",
    "bic_min"
   ]
  },
  {
   "cell_type": "markdown",
   "id": "9df4d8ef",
   "metadata": {},
   "source": [
    "## Residui"
   ]
  },
  {
   "cell_type": "markdown",
   "id": "3823e04b",
   "metadata": {},
   "source": [
    "#### Serie in differenza prima "
   ]
  },
  {
   "cell_type": "code",
   "execution_count": 17,
   "id": "90e50cff",
   "metadata": {},
   "outputs": [
    {
     "data": {
      "image/png": "[encoded data removed]",
      "text/plain": [
       "<Figure size 432x288 with 1 Axes>"
      ]
     },
     "metadata": {
      "needs_background": "light"
     },
     "output_type": "display_data"
    },
    {
     "data": {
      "image/png": "[encoded data removed]",
      "text/plain": [
       "<Figure size 432x288 with 1 Axes>"
      ]
     },
     "metadata": {
      "needs_background": "light"
     },
     "output_type": "display_data"
    },
    {
     "name": "stdout",
     "output_type": "stream",
     "text": [
      "                0\n",
      "count  120.000000\n",
      "mean     0.035174\n",
      "std      0.372750\n",
      "min     -0.012970\n",
      "25%     -0.001528\n",
      "50%      0.001424\n",
      "75%      0.004326\n",
      "max      4.083991\n"
     ]
    }
   ],
   "source": [
    "a = ARIMA(df_NDG_train, order=(3,1,0))\n",
    "mdl = a.fit()\n",
    "residuals = pd.DataFrame(mdl.resid)\n",
    "residuals.plot(ylim=(-0.05,0.05))\n",
    "residuals.plot(kind='kde')\n",
    "plt.show()\n",
    "print(residuals.describe())"
   ]
  },
  {
   "cell_type": "code",
   "execution_count": 18,
   "id": "fa99da8b",
   "metadata": {},
   "outputs": [
    {
     "data": {
      "image/png": "[encoded data removed]",
      "text/plain": [
       "<Figure size 432x288 with 1 Axes>"
      ]
     },
     "execution_count": 18,
     "metadata": {},
     "output_type": "execute_result"
    },
    {
     "data": {
      "image/png": "[encoded data removed]",
      "text/plain": [
       "<Figure size 432x288 with 1 Axes>"
      ]
     },
     "metadata": {
      "needs_background": "light"
     },
     "output_type": "display_data"
    }
   ],
   "source": [
    "plot_acf(residuals,zero=False)"
   ]
  },
  {
   "cell_type": "code",
   "execution_count": 19,
   "id": "05f8cbc0",
   "metadata": {},
   "outputs": [
    {
     "data": {
      "image/png": "[encoded data removed]",
      "text/plain": [
       "<Figure size 432x288 with 1 Axes>"
      ]
     },
     "execution_count": 19,
     "metadata": {},
     "output_type": "execute_result"
    },
    {
     "data": {
      "image/png": "[encoded data removed]",
      "text/plain": [
       "<Figure size 432x288 with 1 Axes>"
      ]
     },
     "metadata": {
      "needs_background": "light"
     },
     "output_type": "display_data"
    }
   ],
   "source": [
    "plot_pacf(residuals,zero=False)"
   ]
  },
  {
   "cell_type": "code",
   "execution_count": 20,
   "id": "6270f9d1",
   "metadata": {},
   "outputs": [
    {
     "name": "stdout",
     "output_type": "stream",
     "text": [
      "                               SARIMAX Results                                \n",
      "==============================================================================\n",
      "Dep. Variable:                IPFPNSS   No. Observations:                  120\n",
      "Model:                 ARIMA(3, 1, 0)   Log Likelihood                 450.158\n",
      "Date:                Sat, 16 Apr 2022   AIC                           -892.316\n",
      "Time:                        13:07:14   BIC                           -881.200\n",
      "Sample:                             0   HQIC                          -887.802\n",
      "                                - 120                                         \n",
      "Covariance Type:                  opg                                         \n",
      "==============================================================================\n",
      "                 coef    std err          z      P>|z|      [0.025      0.975]\n",
      "------------------------------------------------------------------------------\n",
      "ar.L1         -0.0173      0.073     -0.237      0.813      -0.160       0.125\n",
      "ar.L2          0.1749      0.087      2.003      0.045       0.004       0.346\n",
      "ar.L3          0.2983      0.091      3.270      0.001       0.120       0.477\n",
      "sigma2      3.022e-05   3.97e-06      7.611      0.000    2.24e-05     3.8e-05\n",
      "===================================================================================\n",
      "Ljung-Box (L1) (Q):                   0.35   Jarque-Bera (JB):                 1.00\n",
      "Prob(Q):                              0.55   Prob(JB):                         0.61\n",
      "Heteroskedasticity (H):               1.74   Skew:                            -0.13\n",
      "Prob(H) (two-sided):                  0.09   Kurtosis:                         3.37\n",
      "===================================================================================\n",
      "\n",
      "Warnings:\n",
      "[1] Covariance matrix calculated using the outer product of gradients (complex-step).\n"
     ]
    }
   ],
   "source": [
    "print(mdl.summary())"
   ]
  },
  {
   "cell_type": "markdown",
   "id": "fb6ce8b1",
   "metadata": {},
   "source": [
    "## predizione "
   ]
  },
  {
   "cell_type": "markdown",
   "id": "d9dcf9e8",
   "metadata": {},
   "source": [
    "#### modello 1"
   ]
  },
  {
   "cell_type": "code",
   "execution_count": 21,
   "id": "6764a851",
   "metadata": {},
   "outputs": [],
   "source": [
    "pred = []\n",
    "test_size = len(df_NDG_test)\n",
    "for i in range(test_size):\n",
    "    a = ARIMA(df_NDG[:len(df_NDG_train)+i], order=(3,1,0))\n",
    "    mdl = a.fit()\n",
    "    pred.append(float(mdl.forecast(1)))"
   ]
  },
  {
   "cell_type": "code",
   "execution_count": 22,
   "id": "0d94d786",
   "metadata": {},
   "outputs": [],
   "source": [
    "pred = pd.Series(pred)"
   ]
  },
  {
   "cell_type": "code",
   "execution_count": 23,
   "id": "9c427d61",
   "metadata": {},
   "outputs": [],
   "source": [
    "pred.index = np.arange(420, 450)"
   ]
  },
  {
   "cell_type": "code",
   "execution_count": 24,
   "id": "43a3464a",
   "metadata": {},
   "outputs": [
    {
     "data": {
      "text/plain": [
       "<AxesSubplot:>"
      ]
     },
     "execution_count": 24,
     "metadata": {},
     "output_type": "execute_result"
    },
    {
     "data": {
      "image/png": "[encoded data removed]",
      "text/plain": [
       "<Figure size 432x288 with 1 Axes>"
      ]
     },
     "metadata": {
      "needs_background": "light"
     },
     "output_type": "display_data"
    }
   ],
   "source": [
    "residuals = df_NDG_test - pred\n",
    "pd.DataFrame(residuals).plot()"
   ]
  },
  {
   "cell_type": "code",
   "execution_count": 25,
   "id": "6ff1d290",
   "metadata": {},
   "outputs": [
    {
     "data": {
      "image/png": "[encoded data removed]",
      "text/plain": [
       "<Figure size 432x288 with 1 Axes>"
      ]
     },
     "metadata": {
      "needs_background": "light"
     },
     "output_type": "display_data"
    }
   ],
   "source": [
    "total = pd.concat([df_NDG_train,pred])\n",
    "\n",
    "total.plot(ylim=[4.25,4.5],xlim=[400,450])\n",
    "#total.plot()\n",
    "plt.plot(df_NDG)\n",
    "plt.show()"
   ]
  },
  {
   "cell_type": "markdown",
   "id": "35c5aea6",
   "metadata": {},
   "source": [
    "#### Mean Square Forecast Error"
   ]
  },
  {
   "cell_type": "code",
   "execution_count": 26,
   "id": "ec1dd489",
   "metadata": {},
   "outputs": [
    {
     "data": {
      "text/plain": [
       "3.3573281948029396e-05"
      ]
     },
     "execution_count": 26,
     "metadata": {},
     "output_type": "execute_result"
    }
   ],
   "source": [
    "MSFE = statistics.mean((df_NDG_test - pred)**2)\n",
    "MSFE"
   ]
  },
  {
   "cell_type": "markdown",
   "id": "a20c50bf",
   "metadata": {},
   "source": [
    "### Modello 2"
   ]
  },
  {
   "cell_type": "code",
   "execution_count": 27,
   "id": "d3898497",
   "metadata": {},
   "outputs": [],
   "source": [
    "list_NDG = list(df_NDG)\n",
    "diff_prime = [0]\n",
    "for i in range(1,len(df_NDG)):\n",
    "    diff_prime.append(list_NDG[i] - list_NDG[i-1])"
   ]
  },
  {
   "cell_type": "code",
   "execution_count": 28,
   "id": "f47ed63c",
   "metadata": {},
   "outputs": [],
   "source": [
    "df_NDG = pd.DataFrame(df_NDG)"
   ]
  },
  {
   "cell_type": "code",
   "execution_count": 29,
   "id": "c0ec0c06",
   "metadata": {},
   "outputs": [],
   "source": [
    "diff_prime = pd.Series(diff_prime)"
   ]
  },
  {
   "cell_type": "code",
   "execution_count": 30,
   "id": "6f34a80b",
   "metadata": {},
   "outputs": [],
   "source": [
    "df_NDG['diff'] = diff_prime.values"
   ]
  },
  {
   "cell_type": "code",
   "execution_count": 31,
   "id": "8e133655",
   "metadata": {},
   "outputs": [
    {
     "data": {
      "text/html": [
       "<div>\n",
       "<style scoped>\n",
       "    .dataframe tbody tr th:only-of-type {\n",
       "        vertical-align: middle;\n",
       "    }\n",
       "\n",
       "    .dataframe tbody tr th {\n",
       "        vertical-align: top;\n",
       "    }\n",
       "\n",
       "    .dataframe thead th {\n",
       "        text-align: right;\n",
       "    }\n",
       "</style>\n",
       "<table border=\"1\" class=\"dataframe\">\n",
       "  <thead>\n",
       "    <tr style=\"text-align: right;\">\n",
       "      <th></th>\n",
       "      <th>IPFPNSS</th>\n",
       "      <th>diff</th>\n",
       "    </tr>\n",
       "  </thead>\n",
       "  <tbody>\n",
       "    <tr>\n",
       "      <th>300</th>\n",
       "      <td>4.083991</td>\n",
       "      <td>0.000000</td>\n",
       "    </tr>\n",
       "    <tr>\n",
       "      <th>301</th>\n",
       "      <td>4.087429</td>\n",
       "      <td>0.003438</td>\n",
       "    </tr>\n",
       "    <tr>\n",
       "      <th>302</th>\n",
       "      <td>4.092646</td>\n",
       "      <td>0.005217</td>\n",
       "    </tr>\n",
       "    <tr>\n",
       "      <th>303</th>\n",
       "      <td>4.098305</td>\n",
       "      <td>0.005659</td>\n",
       "    </tr>\n",
       "    <tr>\n",
       "      <th>304</th>\n",
       "      <td>4.100848</td>\n",
       "      <td>0.002543</td>\n",
       "    </tr>\n",
       "    <tr>\n",
       "      <th>...</th>\n",
       "      <td>...</td>\n",
       "      <td>...</td>\n",
       "    </tr>\n",
       "    <tr>\n",
       "      <th>445</th>\n",
       "      <td>4.413906</td>\n",
       "      <td>0.016995</td>\n",
       "    </tr>\n",
       "    <tr>\n",
       "      <th>446</th>\n",
       "      <td>4.411919</td>\n",
       "      <td>-0.001986</td>\n",
       "    </tr>\n",
       "    <tr>\n",
       "      <th>447</th>\n",
       "      <td>4.421596</td>\n",
       "      <td>0.009677</td>\n",
       "    </tr>\n",
       "    <tr>\n",
       "      <th>448</th>\n",
       "      <td>4.428044</td>\n",
       "      <td>0.006448</td>\n",
       "    </tr>\n",
       "    <tr>\n",
       "      <th>449</th>\n",
       "      <td>4.436797</td>\n",
       "      <td>0.008753</td>\n",
       "    </tr>\n",
       "  </tbody>\n",
       "</table>\n",
       "<p>150 rows × 2 columns</p>\n",
       "</div>"
      ],
      "text/plain": [
       "      IPFPNSS      diff\n",
       "300  4.083991  0.000000\n",
       "301  4.087429  0.003438\n",
       "302  4.092646  0.005217\n",
       "303  4.098305  0.005659\n",
       "304  4.100848  0.002543\n",
       "..        ...       ...\n",
       "445  4.413906  0.016995\n",
       "446  4.411919 -0.001986\n",
       "447  4.421596  0.009677\n",
       "448  4.428044  0.006448\n",
       "449  4.436797  0.008753\n",
       "\n",
       "[150 rows x 2 columns]"
      ]
     },
     "execution_count": 31,
     "metadata": {},
     "output_type": "execute_result"
    }
   ],
   "source": [
    "df_NDG"
   ]
  },
  {
   "cell_type": "code",
   "execution_count": 32,
   "id": "1a6708f0",
   "metadata": {},
   "outputs": [],
   "source": [
    "avg_diff = []\n",
    "test_size = len(df_NDG_test)\n",
    "\n",
    "for i in range(test_size):\n",
    "    a = df_NDG[:len(df_NDG_train)+ i+1]['diff'].mean()\n",
    "    avg_diff.append(a)\n",
    "    \n",
    "avg_diff = pd.Series(avg_diff)"
   ]
  },
  {
   "cell_type": "code",
   "execution_count": 33,
   "id": "053b6ac9",
   "metadata": {},
   "outputs": [],
   "source": [
    "pred2 = []\n",
    "temp = df_NDG[len(df_NDG_train)-1:]['IPFPNSS'].reset_index(drop=True)\n",
    "\n",
    "for i in range (test_size):\n",
    "    b = avg_diff[i] + temp[i]\n",
    "    pred2.append(b)\n",
    "\n",
    "pred2 = pd.Series(pred2)\n",
    "\n",
    "total = pd.concat([df_NDG_train.reset_index(drop=True), pred2])\n",
    "total.index = np.arange(300, 450)"
   ]
  },
  {
   "cell_type": "code",
   "execution_count": 34,
   "id": "27182d66",
   "metadata": {},
   "outputs": [
    {
     "data": {
      "image/png": "[encoded data removed]",
      "text/plain": [
       "<Figure size 432x288 with 1 Axes>"
      ]
     },
     "metadata": {
      "needs_background": "light"
     },
     "output_type": "display_data"
    }
   ],
   "source": [
    "total.plot(ylim=[4.25,4.50],xlim=[400,450])\n",
    "plt.plot(df_NDG['IPFPNSS'])\n",
    "plt.show()"
   ]
  },
  {
   "cell_type": "code",
   "execution_count": 35,
   "id": "4bda01ec",
   "metadata": {},
   "outputs": [],
   "source": [
    "residuals2 = df_NDG_test.reset_index(drop=True) - pred2"
   ]
  },
  {
   "cell_type": "code",
   "execution_count": 36,
   "id": "466ab2a9",
   "metadata": {},
   "outputs": [
    {
     "data": {
      "text/plain": [
       "<AxesSubplot:>"
      ]
     },
     "execution_count": 36,
     "metadata": {},
     "output_type": "execute_result"
    },
    {
     "data": {
      "image/png": "[encoded data removed]",
      "text/plain": [
       "<Figure size 432x288 with 1 Axes>"
      ]
     },
     "metadata": {
      "needs_background": "light"
     },
     "output_type": "display_data"
    }
   ],
   "source": [
    "residuals2.plot()"
   ]
  },
  {
   "cell_type": "markdown",
   "id": "bcf55462",
   "metadata": {},
   "source": [
    "#### Mean Square Forecast Error"
   ]
  },
  {
   "cell_type": "code",
   "execution_count": 37,
   "id": "9804dad2",
   "metadata": {},
   "outputs": [
    {
     "data": {
      "text/plain": [
       "2.1235259488606746e-06"
      ]
     },
     "execution_count": 37,
     "metadata": {},
     "output_type": "execute_result"
    }
   ],
   "source": [
    "MSFE2 = statistics.mean(df_NDG_test.reset_index(drop=True) - pred2)**2\n",
    "MSFE2"
   ]
  },
  {
   "cell_type": "markdown",
   "id": "afc7a7d6",
   "metadata": {},
   "source": [
    "## Test Diebold-Mariano "
   ]
  },
  {
   "cell_type": "code",
   "execution_count": 41,
   "id": "0a1d37e0",
   "metadata": {},
   "outputs": [
    {
     "data": {
      "text/plain": [
       "-0.01904488300530579"
      ]
     },
     "execution_count": 41,
     "metadata": {},
     "output_type": "execute_result"
    }
   ],
   "source": [
    "from diebold_mariano_test import *\n",
    "#import random\n",
    "\n",
    "#random.seed(123)\n",
    "actual_lst = list(df_NDG_test)\n",
    "pred1_lst = list(pred)\n",
    "pred2_lst = list(pred2)\n",
    "\n",
    "#actual_lst = random.sample(actual_lst,100)\n",
    "#pred1_lst = random.sample(pred1_lst,100)\n",
    "#pred2_lst = random.sample(pred2_lst,100)\n",
    "\n",
    "d_t_list = cul_d_t(MSE,actual_lst,pred1_lst,pred2_lst)\n",
    "cul_DM(d_t_list)\n"
   ]
  },
  {
   "cell_type": "code",
   "execution_count": 42,
   "id": "5577ec4b",
   "metadata": {},
   "outputs": [
    {
     "data": {
      "text/plain": [
       "0.984805300432078"
      ]
     },
     "execution_count": 42,
     "metadata": {},
     "output_type": "execute_result"
    }
   ],
   "source": [
    "cul_P(d_t_list) #pvalue"
   ]
  },
  {
   "cell_type": "code",
   "execution_count": 43,
   "id": "ef19a2a9",
   "metadata": {},
   "outputs": [
    {
     "data": {
      "text/plain": [
       "0.34474539474730714"
      ]
     },
     "execution_count": 43,
     "metadata": {},
     "output_type": "execute_result"
    }
   ],
   "source": [
    "d_t_list1 = cul_d_t(MAE,actual_lst,pred1_lst,pred2_lst)\n",
    "cul_DM(d_t_list1)"
   ]
  },
  {
   "cell_type": "code",
   "execution_count": 44,
   "id": "73aa0a8a",
   "metadata": {},
   "outputs": [
    {
     "data": {
      "text/plain": [
       "0.7302857877467339"
      ]
     },
     "execution_count": 44,
     "metadata": {},
     "output_type": "execute_result"
    }
   ],
   "source": [
    "cul_P(d_t_list1)"
   ]
  }
 ],
 "metadata": {
  "kernelspec": {
   "display_name": "Python 3 (ipykernel)",
   "language": "python",
   "name": "python3"
  },
  "language_info": {
   "codemirror_mode": {
    "name": "ipython",
    "version": 3
   },
   "file_extension": ".py",
   "mimetype": "text/x-python",
   "name": "python",
   "nbconvert_exporter": "python",
   "pygments_lexer": "ipython3",
   "version": "3.9.7"
  },
  "toc": {
   "base_numbering": 1,
   "nav_menu": {},
   "number_sections": true,
   "sideBar": true,
   "skip_h1_title": false,
   "title_cell": "Table of Contents",
   "title_sidebar": "Contents",
   "toc_cell": false,
   "toc_position": {},
   "toc_section_display": true,
   "toc_window_display": false
  }
 },
 "nbformat": 4,
 "nbformat_minor": 5
}
